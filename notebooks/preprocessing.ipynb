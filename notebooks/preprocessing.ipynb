{
 "cells": [
  {
   "cell_type": "code",
   "execution_count": 1,
   "metadata": {
    "ExecuteTime": {
     "end_time": "2021-01-12T23:16:11.007483Z",
     "start_time": "2021-01-12T23:16:10.977568Z"
    }
   },
   "outputs": [],
   "source": [
    "%load_ext autoreload\n",
    "%autoreload 2"
   ]
  },
  {
   "cell_type": "code",
   "execution_count": 2,
   "metadata": {
    "ExecuteTime": {
     "end_time": "2021-01-12T23:16:11.798895Z",
     "start_time": "2021-01-12T23:16:11.422605Z"
    }
   },
   "outputs": [],
   "source": [
    "import json\n",
    "import re\n",
    "from ast import literal_eval\n",
    "from string import punctuation\n",
    "\n",
    "import pandas as pd\n",
    "from regex import UNICODE, VERBOSE, compile\n",
    "from segtok.tokenizer import word_tokenizer\n",
    "\n",
    "from src.data.main_processing import (remove_html_tags, remove_punctuation,\n",
    "                                      remove_urls)"
   ]
  },
  {
   "cell_type": "code",
   "execution_count": 3,
   "metadata": {
    "ExecuteTime": {
     "end_time": "2021-01-12T23:16:13.662000Z",
     "start_time": "2021-01-12T23:16:13.620741Z"
    }
   },
   "outputs": [],
   "source": [
    "def is_punctuated(df, text_col=\"TEXT\"):\n",
    "    def punctuated(text):\n",
    "        for x in text:\n",
    "            if x in punctuation:\n",
    "                return True\n",
    "        else:\n",
    "            return False\n",
    "    return df[text_col].map(punctuated)"
   ]
  },
  {
   "cell_type": "code",
   "execution_count": 5,
   "metadata": {
    "ExecuteTime": {
     "end_time": "2021-01-12T23:16:21.959668Z",
     "start_time": "2021-01-12T23:16:19.672281Z"
    }
   },
   "outputs": [],
   "source": [
    "df = pd.read_csv(\"../data/one_hot_tags_related_only.csv\", index_col=0)"
   ]
  },
  {
   "cell_type": "code",
   "execution_count": 6,
   "metadata": {
    "ExecuteTime": {
     "end_time": "2021-01-12T23:16:22.406677Z",
     "start_time": "2021-01-12T23:16:22.380204Z"
    }
   },
   "outputs": [
    {
     "data": {
      "text/plain": [
       "(54600, 18)"
      ]
     },
     "execution_count": 6,
     "metadata": {},
     "output_type": "execute_result"
    }
   ],
   "source": [
    "df.shape"
   ]
  },
  {
   "cell_type": "code",
   "execution_count": 7,
   "metadata": {
    "ExecuteTime": {
     "end_time": "2021-01-12T23:16:26.796651Z",
     "start_time": "2021-01-12T23:16:26.753802Z"
    }
   },
   "outputs": [
    {
     "data": {
      "text/html": [
       "<div>\n",
       "<style scoped>\n",
       "    .dataframe tbody tr th:only-of-type {\n",
       "        vertical-align: middle;\n",
       "    }\n",
       "\n",
       "    .dataframe tbody tr th {\n",
       "        vertical-align: top;\n",
       "    }\n",
       "\n",
       "    .dataframe thead th {\n",
       "        text-align: right;\n",
       "    }\n",
       "</style>\n",
       "<table border=\"1\" class=\"dataframe\">\n",
       "  <thead>\n",
       "    <tr style=\"text-align: right;\">\n",
       "      <th></th>\n",
       "      <th>TITLE</th>\n",
       "      <th>LIKES</th>\n",
       "      <th>TEXT</th>\n",
       "      <th>TAGS</th>\n",
       "      <th>COMMENTS</th>\n",
       "      <th>VIEWS</th>\n",
       "      <th>NICKNAME</th>\n",
       "      <th>TIME_GAP</th>\n",
       "      <th>TIMESTAMP</th>\n",
       "      <th>CURRENT_TIMESTAMP</th>\n",
       "      <th>политика</th>\n",
       "      <th>помощь</th>\n",
       "      <th>дети</th>\n",
       "      <th>девушки</th>\n",
       "      <th>отношения</th>\n",
       "      <th>рассказ</th>\n",
       "      <th>стихи</th>\n",
       "      <th>юмор</th>\n",
       "    </tr>\n",
       "  </thead>\n",
       "  <tbody>\n",
       "    <tr>\n",
       "      <th>3</th>\n",
       "      <td>Хорошо быть бабой</td>\n",
       "      <td>245</td>\n",
       "      <td>\\nХорошо быть бабой - загрустила, сфоткала себ...</td>\n",
       "      <td>['Девушки', 'Счастье']</td>\n",
       "      <td>38</td>\n",
       "      <td>NaN</td>\n",
       "      <td>Viruso4ek</td>\n",
       "      <td>5 лет назад</td>\n",
       "      <td>2014-12-22T23:52:56+03:00</td>\n",
       "      <td>1.585448e+09</td>\n",
       "      <td>0</td>\n",
       "      <td>0</td>\n",
       "      <td>0</td>\n",
       "      <td>1</td>\n",
       "      <td>0</td>\n",
       "      <td>0</td>\n",
       "      <td>0</td>\n",
       "      <td>0</td>\n",
       "    </tr>\n",
       "    <tr>\n",
       "      <th>6</th>\n",
       "      <td>Рим(история циклична)</td>\n",
       "      <td>3</td>\n",
       "      <td>\\nЛегионы, легионы \\nопоясали страну\\nМатерят ...</td>\n",
       "      <td>['Рим', 'История', 'Война', 'Стихи']</td>\n",
       "      <td>12</td>\n",
       "      <td>NaN</td>\n",
       "      <td>lokibrother</td>\n",
       "      <td>5 лет назад</td>\n",
       "      <td>2014-12-22T23:49:08+03:00</td>\n",
       "      <td>1.585448e+09</td>\n",
       "      <td>0</td>\n",
       "      <td>0</td>\n",
       "      <td>0</td>\n",
       "      <td>0</td>\n",
       "      <td>0</td>\n",
       "      <td>0</td>\n",
       "      <td>1</td>\n",
       "      <td>0</td>\n",
       "    </tr>\n",
       "    <tr>\n",
       "      <th>9</th>\n",
       "      <td>Языковой барьер.</td>\n",
       "      <td>73</td>\n",
       "      <td>\\n     Семья, по долгу отцовской профессии, по...</td>\n",
       "      <td>['Язык', 'Украина', 'Юмор']</td>\n",
       "      <td>3</td>\n",
       "      <td>NaN</td>\n",
       "      <td>alekrasnodar</td>\n",
       "      <td>5 лет назад</td>\n",
       "      <td>2014-12-22T23:38:20+03:00</td>\n",
       "      <td>1.585448e+09</td>\n",
       "      <td>0</td>\n",
       "      <td>0</td>\n",
       "      <td>0</td>\n",
       "      <td>0</td>\n",
       "      <td>0</td>\n",
       "      <td>0</td>\n",
       "      <td>0</td>\n",
       "      <td>1</td>\n",
       "    </tr>\n",
       "    <tr>\n",
       "      <th>10</th>\n",
       "      <td>не надо стесняться</td>\n",
       "      <td>79</td>\n",
       "      <td>\\nА что плохого в онанизме? В конце концов, вы...</td>\n",
       "      <td>['Вуди Аллен', 'Юмор']</td>\n",
       "      <td>15</td>\n",
       "      <td>NaN</td>\n",
       "      <td>durdom0550</td>\n",
       "      <td>5 лет назад</td>\n",
       "      <td>2014-12-22T23:37:24+03:00</td>\n",
       "      <td>1.585448e+09</td>\n",
       "      <td>0</td>\n",
       "      <td>0</td>\n",
       "      <td>0</td>\n",
       "      <td>0</td>\n",
       "      <td>0</td>\n",
       "      <td>0</td>\n",
       "      <td>0</td>\n",
       "      <td>1</td>\n",
       "    </tr>\n",
       "    <tr>\n",
       "      <th>14</th>\n",
       "      <td>Не могу вспомнить название пластинки из детства.</td>\n",
       "      <td>4</td>\n",
       "      <td>\\nВсем привет, в детстве была у меня пластинка...</td>\n",
       "      <td>['Пластинка', 'Склероз', 'Помощь', 'Старое', '...</td>\n",
       "      <td>10</td>\n",
       "      <td>NaN</td>\n",
       "      <td>NiiBird</td>\n",
       "      <td>5 лет назад</td>\n",
       "      <td>2014-12-22T23:25:27+03:00</td>\n",
       "      <td>1.585448e+09</td>\n",
       "      <td>0</td>\n",
       "      <td>1</td>\n",
       "      <td>0</td>\n",
       "      <td>0</td>\n",
       "      <td>0</td>\n",
       "      <td>0</td>\n",
       "      <td>0</td>\n",
       "      <td>0</td>\n",
       "    </tr>\n",
       "  </tbody>\n",
       "</table>\n",
       "</div>"
      ],
      "text/plain": [
       "                                               TITLE  LIKES  \\\n",
       "3                                  Хорошо быть бабой    245   \n",
       "6                              Рим(история циклична)      3   \n",
       "9                                   Языковой барьер.     73   \n",
       "10                                не надо стесняться     79   \n",
       "14  Не могу вспомнить название пластинки из детства.      4   \n",
       "\n",
       "                                                 TEXT  \\\n",
       "3   \\nХорошо быть бабой - загрустила, сфоткала себ...   \n",
       "6   \\nЛегионы, легионы \\nопоясали страну\\nМатерят ...   \n",
       "9   \\n     Семья, по долгу отцовской профессии, по...   \n",
       "10  \\nА что плохого в онанизме? В конце концов, вы...   \n",
       "14  \\nВсем привет, в детстве была у меня пластинка...   \n",
       "\n",
       "                                                 TAGS  COMMENTS  VIEWS  \\\n",
       "3                              ['Девушки', 'Счастье']        38    NaN   \n",
       "6                ['Рим', 'История', 'Война', 'Стихи']        12    NaN   \n",
       "9                         ['Язык', 'Украина', 'Юмор']         3    NaN   \n",
       "10                             ['Вуди Аллен', 'Юмор']        15    NaN   \n",
       "14  ['Пластинка', 'Склероз', 'Помощь', 'Старое', '...        10    NaN   \n",
       "\n",
       "        NICKNAME     TIME_GAP                  TIMESTAMP  CURRENT_TIMESTAMP  \\\n",
       "3      Viruso4ek  5 лет назад  2014-12-22T23:52:56+03:00       1.585448e+09   \n",
       "6    lokibrother  5 лет назад  2014-12-22T23:49:08+03:00       1.585448e+09   \n",
       "9   alekrasnodar  5 лет назад  2014-12-22T23:38:20+03:00       1.585448e+09   \n",
       "10    durdom0550  5 лет назад  2014-12-22T23:37:24+03:00       1.585448e+09   \n",
       "14       NiiBird  5 лет назад  2014-12-22T23:25:27+03:00       1.585448e+09   \n",
       "\n",
       "    политика  помощь  дети  девушки  отношения  рассказ  стихи  юмор  \n",
       "3          0       0     0        1          0        0      0     0  \n",
       "6          0       0     0        0          0        0      1     0  \n",
       "9          0       0     0        0          0        0      0     1  \n",
       "10         0       0     0        0          0        0      0     1  \n",
       "14         0       1     0        0          0        0      0     0  "
      ]
     },
     "execution_count": 7,
     "metadata": {},
     "output_type": "execute_result"
    }
   ],
   "source": [
    "df.head()"
   ]
  },
  {
   "cell_type": "markdown",
   "metadata": {},
   "source": [
    "### Remove urls"
   ]
  },
  {
   "cell_type": "code",
   "execution_count": 8,
   "metadata": {
    "ExecuteTime": {
     "end_time": "2021-01-12T23:16:34.957876Z",
     "start_time": "2021-01-12T23:16:34.890108Z"
    }
   },
   "outputs": [
    {
     "data": {
      "text/plain": [
       "1365.7167216117216"
      ]
     },
     "execution_count": 8,
     "metadata": {},
     "output_type": "execute_result"
    }
   ],
   "source": [
    "df[\"TEXT\"].str.len().mean()"
   ]
  },
  {
   "cell_type": "code",
   "execution_count": 9,
   "metadata": {
    "ExecuteTime": {
     "end_time": "2021-01-12T23:16:46.139035Z",
     "start_time": "2021-01-12T23:16:35.943061Z"
    }
   },
   "outputs": [],
   "source": [
    "remove_urls(df)"
   ]
  },
  {
   "cell_type": "code",
   "execution_count": 10,
   "metadata": {
    "ExecuteTime": {
     "end_time": "2021-01-12T23:16:46.195220Z",
     "start_time": "2021-01-12T23:16:46.140464Z"
    }
   },
   "outputs": [
    {
     "data": {
      "text/plain": [
       "1363.3041941391941"
      ]
     },
     "execution_count": 10,
     "metadata": {},
     "output_type": "execute_result"
    }
   ],
   "source": [
    "df[\"TEXT\"].str.len().mean()"
   ]
  },
  {
   "cell_type": "markdown",
   "metadata": {},
   "source": [
    "### Remove punctuation"
   ]
  },
  {
   "cell_type": "code",
   "execution_count": 11,
   "metadata": {
    "ExecuteTime": {
     "end_time": "2021-01-12T23:16:46.214522Z",
     "start_time": "2021-01-12T23:16:46.198063Z"
    }
   },
   "outputs": [],
   "source": [
    "df[\"TEXT_PUNCT\"] = df[\"TEXT\"].copy()\n",
    "df[\"TITLE_PUNCT\"] = df[\"TITLE\"].copy()"
   ]
  },
  {
   "cell_type": "code",
   "execution_count": 12,
   "metadata": {
    "ExecuteTime": {
     "end_time": "2021-01-12T23:16:48.640937Z",
     "start_time": "2021-01-12T23:16:46.217013Z"
    }
   },
   "outputs": [],
   "source": [
    "remove_punctuation(df, \"TEXT\")"
   ]
  },
  {
   "cell_type": "code",
   "execution_count": 13,
   "metadata": {
    "ExecuteTime": {
     "end_time": "2021-01-12T23:16:48.698056Z",
     "start_time": "2021-01-12T23:16:48.642684Z"
    }
   },
   "outputs": [
    {
     "data": {
      "text/plain": [
       "1358.3367582417582"
      ]
     },
     "execution_count": 13,
     "metadata": {},
     "output_type": "execute_result"
    }
   ],
   "source": [
    "df[\"TEXT\"].str.len().mean()"
   ]
  },
  {
   "cell_type": "code",
   "execution_count": 14,
   "metadata": {
    "ExecuteTime": {
     "end_time": "2021-01-12T23:16:48.811556Z",
     "start_time": "2021-01-12T23:16:48.699975Z"
    }
   },
   "outputs": [
    {
     "data": {
      "text/plain": [
       "30.755641025641026"
      ]
     },
     "execution_count": 14,
     "metadata": {},
     "output_type": "execute_result"
    }
   ],
   "source": [
    "df[\"TITLE\"].str.len().mean()"
   ]
  },
  {
   "cell_type": "code",
   "execution_count": 15,
   "metadata": {
    "ExecuteTime": {
     "end_time": "2021-01-12T23:16:48.938765Z",
     "start_time": "2021-01-12T23:16:48.813031Z"
    }
   },
   "outputs": [],
   "source": [
    "remove_punctuation(df, 'TITLE')"
   ]
  },
  {
   "cell_type": "code",
   "execution_count": 16,
   "metadata": {
    "ExecuteTime": {
     "end_time": "2021-01-12T23:16:48.977304Z",
     "start_time": "2021-01-12T23:16:48.941100Z"
    }
   },
   "outputs": [
    {
     "data": {
      "text/plain": [
       "30.47705128205128"
      ]
     },
     "execution_count": 16,
     "metadata": {},
     "output_type": "execute_result"
    }
   ],
   "source": [
    "df[\"TITLE\"].str.len().mean()"
   ]
  },
  {
   "cell_type": "markdown",
   "metadata": {},
   "source": [
    "### Apply lower case"
   ]
  },
  {
   "cell_type": "code",
   "execution_count": 17,
   "metadata": {
    "ExecuteTime": {
     "end_time": "2021-01-12T23:16:49.593153Z",
     "start_time": "2021-01-12T23:16:48.978834Z"
    }
   },
   "outputs": [],
   "source": [
    "df[\"TEXT\"] = df['TEXT'].str.lower()\n",
    "df['TEXT_PUNCT'] = df['TEXT_PUNCT'].str.lower()"
   ]
  },
  {
   "cell_type": "markdown",
   "metadata": {},
   "source": [
    "### Fix list records with json"
   ]
  },
  {
   "cell_type": "code",
   "execution_count": 18,
   "metadata": {
    "ExecuteTime": {
     "end_time": "2021-01-12T23:16:50.400306Z",
     "start_time": "2021-01-12T23:16:49.598162Z"
    }
   },
   "outputs": [],
   "source": [
    "df[\"TAGS\"]=df['TAGS'].map(literal_eval)"
   ]
  },
  {
   "cell_type": "code",
   "execution_count": 19,
   "metadata": {
    "ExecuteTime": {
     "end_time": "2021-01-12T23:16:50.416443Z",
     "start_time": "2021-01-12T23:16:50.401764Z"
    }
   },
   "outputs": [],
   "source": [
    "from functools import partial\n",
    "part_dumps = partial(json.dumps, ensure_ascii=False)"
   ]
  },
  {
   "cell_type": "code",
   "execution_count": 20,
   "metadata": {
    "ExecuteTime": {
     "end_time": "2021-01-12T23:16:50.728989Z",
     "start_time": "2021-01-12T23:16:50.418291Z"
    }
   },
   "outputs": [],
   "source": [
    "df['TAGS']=df['TAGS'].map(part_dumps)"
   ]
  },
  {
   "cell_type": "code",
   "execution_count": 21,
   "metadata": {
    "ExecuteTime": {
     "end_time": "2021-01-12T23:16:50.780043Z",
     "start_time": "2021-01-12T23:16:50.730673Z"
    }
   },
   "outputs": [],
   "source": [
    "df.drop(columns=['VIEWS'], inplace=True)"
   ]
  },
  {
   "cell_type": "markdown",
   "metadata": {},
   "source": [
    "### Save results"
   ]
  },
  {
   "cell_type": "code",
   "execution_count": 23,
   "metadata": {
    "ExecuteTime": {
     "end_time": "2021-01-12T23:17:00.111810Z",
     "start_time": "2021-01-12T23:16:54.934702Z"
    }
   },
   "outputs": [],
   "source": [
    "df.to_csv(\"../data/preprocessed.csv\", index=False)"
   ]
  },
  {
   "cell_type": "markdown",
   "metadata": {},
   "source": [
    "### Split rows by target columns on strict and fuzzy classes"
   ]
  },
  {
   "cell_type": "code",
   "execution_count": 24,
   "metadata": {
    "ExecuteTime": {
     "end_time": "2021-01-12T23:25:22.899941Z",
     "start_time": "2021-01-12T23:25:22.880500Z"
    }
   },
   "outputs": [],
   "source": [
    "target_tags = ['политика', 'помощь', 'дети', 'девушки', 'отношения', 'рассказ', 'стихи', 'юмор']"
   ]
  },
  {
   "cell_type": "code",
   "execution_count": 37,
   "metadata": {
    "ExecuteTime": {
     "end_time": "2021-01-13T00:12:34.918083Z",
     "start_time": "2021-01-13T00:12:27.274294Z"
    }
   },
   "outputs": [],
   "source": [
    "df = pd.read_csv(\"../data/preprocessed.csv\")"
   ]
  },
  {
   "cell_type": "code",
   "execution_count": 39,
   "metadata": {
    "ExecuteTime": {
     "end_time": "2021-01-13T00:13:19.511906Z",
     "start_time": "2021-01-13T00:13:19.442302Z"
    }
   },
   "outputs": [
    {
     "data": {
      "text/plain": [
       "политика     10074\n",
       "помощь       13588\n",
       "дети          5521\n",
       "девушки       4459\n",
       "отношения     3347\n",
       "рассказ       5276\n",
       "стихи         4795\n",
       "юмор         10832\n",
       "dtype: int64"
      ]
     },
     "execution_count": 39,
     "metadata": {},
     "output_type": "execute_result"
    }
   ],
   "source": [
    "df[target_tags].sum(axis=0)"
   ]
  },
  {
   "cell_type": "code",
   "execution_count": 40,
   "metadata": {
    "ExecuteTime": {
     "end_time": "2021-01-13T00:13:19.586528Z",
     "start_time": "2021-01-13T00:13:19.560094Z"
    }
   },
   "outputs": [],
   "source": [
    "df_fuzzy = df.loc[df[target_tags].sum(axis=1) > 1]"
   ]
  },
  {
   "cell_type": "code",
   "execution_count": 41,
   "metadata": {
    "ExecuteTime": {
     "end_time": "2021-01-13T00:13:20.018471Z",
     "start_time": "2021-01-13T00:13:19.996398Z"
    }
   },
   "outputs": [
    {
     "data": {
      "text/plain": [
       "политика      633\n",
       "помощь        417\n",
       "дети          656\n",
       "девушки      1196\n",
       "отношения    1065\n",
       "рассказ       512\n",
       "стихи         438\n",
       "юмор         1559\n",
       "dtype: int64"
      ]
     },
     "execution_count": 41,
     "metadata": {},
     "output_type": "execute_result"
    }
   ],
   "source": [
    "df_fuzzy[target_tags].sum(axis=0)"
   ]
  },
  {
   "cell_type": "code",
   "execution_count": 42,
   "metadata": {
    "ExecuteTime": {
     "end_time": "2021-01-13T00:13:20.934724Z",
     "start_time": "2021-01-13T00:13:20.829753Z"
    }
   },
   "outputs": [],
   "source": [
    "df_strict = df.drop(index=df_fuzzy.index)"
   ]
  },
  {
   "cell_type": "code",
   "execution_count": 50,
   "metadata": {
    "ExecuteTime": {
     "end_time": "2021-01-13T00:18:14.296032Z",
     "start_time": "2021-01-13T00:18:14.281180Z"
    }
   },
   "outputs": [],
   "source": [
    "numered_tags = list(enumerate(sorted(target_tags)))"
   ]
  },
  {
   "cell_type": "code",
   "execution_count": 51,
   "metadata": {
    "ExecuteTime": {
     "end_time": "2021-01-13T00:18:20.714224Z",
     "start_time": "2021-01-13T00:18:20.678176Z"
    }
   },
   "outputs": [
    {
     "data": {
      "text/plain": [
       "[(0, 'девушки'),\n",
       " (1, 'дети'),\n",
       " (2, 'отношения'),\n",
       " (3, 'политика'),\n",
       " (4, 'помощь'),\n",
       " (5, 'рассказ'),\n",
       " (6, 'стихи'),\n",
       " (7, 'юмор')]"
      ]
     },
     "execution_count": 51,
     "metadata": {},
     "output_type": "execute_result"
    }
   ],
   "source": [
    "numered_tags"
   ]
  },
  {
   "cell_type": "code",
   "execution_count": 54,
   "metadata": {
    "ExecuteTime": {
     "end_time": "2021-01-13T00:19:23.482807Z",
     "start_time": "2021-01-13T00:19:23.201299Z"
    }
   },
   "outputs": [],
   "source": [
    "df_strict['target'] = sum([df_strict[tag].map(lambda z: x if z else 0) for x, tag in numered_tags])"
   ]
  },
  {
   "cell_type": "code",
   "execution_count": 55,
   "metadata": {
    "ExecuteTime": {
     "end_time": "2021-01-13T00:19:23.548984Z",
     "start_time": "2021-01-13T00:19:23.485587Z"
    },
    "collapsed": true
   },
   "outputs": [
    {
     "data": {
      "text/html": [
       "<div>\n",
       "<style scoped>\n",
       "    .dataframe tbody tr th:only-of-type {\n",
       "        vertical-align: middle;\n",
       "    }\n",
       "\n",
       "    .dataframe tbody tr th {\n",
       "        vertical-align: top;\n",
       "    }\n",
       "\n",
       "    .dataframe thead th {\n",
       "        text-align: right;\n",
       "    }\n",
       "</style>\n",
       "<table border=\"1\" class=\"dataframe\">\n",
       "  <thead>\n",
       "    <tr style=\"text-align: right;\">\n",
       "      <th></th>\n",
       "      <th>TITLE</th>\n",
       "      <th>LIKES</th>\n",
       "      <th>TEXT</th>\n",
       "      <th>TAGS</th>\n",
       "      <th>COMMENTS</th>\n",
       "      <th>NICKNAME</th>\n",
       "      <th>TIME_GAP</th>\n",
       "      <th>TIMESTAMP</th>\n",
       "      <th>CURRENT_TIMESTAMP</th>\n",
       "      <th>политика</th>\n",
       "      <th>помощь</th>\n",
       "      <th>дети</th>\n",
       "      <th>девушки</th>\n",
       "      <th>отношения</th>\n",
       "      <th>рассказ</th>\n",
       "      <th>стихи</th>\n",
       "      <th>юмор</th>\n",
       "      <th>TEXT_PUNCT</th>\n",
       "      <th>TITLE_PUNCT</th>\n",
       "      <th>target</th>\n",
       "    </tr>\n",
       "  </thead>\n",
       "  <tbody>\n",
       "    <tr>\n",
       "      <th>0</th>\n",
       "      <td>Хорошо быть бабой</td>\n",
       "      <td>245</td>\n",
       "      <td>\\nхорошо быть бабой   загрустила  сфоткала себ...</td>\n",
       "      <td>[\"Девушки\", \"Счастье\"]</td>\n",
       "      <td>38</td>\n",
       "      <td>Viruso4ek</td>\n",
       "      <td>5 лет назад</td>\n",
       "      <td>2014-12-22T23:52:56+03:00</td>\n",
       "      <td>1.585448e+09</td>\n",
       "      <td>0</td>\n",
       "      <td>0</td>\n",
       "      <td>0</td>\n",
       "      <td>1</td>\n",
       "      <td>0</td>\n",
       "      <td>0</td>\n",
       "      <td>0</td>\n",
       "      <td>0</td>\n",
       "      <td>\\nхорошо быть бабой - загрустила, сфоткала себ...</td>\n",
       "      <td>Хорошо быть бабой</td>\n",
       "      <td>0</td>\n",
       "    </tr>\n",
       "    <tr>\n",
       "      <th>1</th>\n",
       "      <td>Рим история циклична</td>\n",
       "      <td>3</td>\n",
       "      <td>\\nлегионы  легионы \\nопоясали страну\\nматерят ...</td>\n",
       "      <td>[\"Рим\", \"История\", \"Война\", \"Стихи\"]</td>\n",
       "      <td>12</td>\n",
       "      <td>lokibrother</td>\n",
       "      <td>5 лет назад</td>\n",
       "      <td>2014-12-22T23:49:08+03:00</td>\n",
       "      <td>1.585448e+09</td>\n",
       "      <td>0</td>\n",
       "      <td>0</td>\n",
       "      <td>0</td>\n",
       "      <td>0</td>\n",
       "      <td>0</td>\n",
       "      <td>0</td>\n",
       "      <td>1</td>\n",
       "      <td>0</td>\n",
       "      <td>\\nлегионы, легионы \\nопоясали страну\\nматерят ...</td>\n",
       "      <td>Рим(история циклична)</td>\n",
       "      <td>6</td>\n",
       "    </tr>\n",
       "    <tr>\n",
       "      <th>2</th>\n",
       "      <td>Языковой барьер</td>\n",
       "      <td>73</td>\n",
       "      <td>\\n     семья  по долгу отцовской профессии  по...</td>\n",
       "      <td>[\"Язык\", \"Украина\", \"Юмор\"]</td>\n",
       "      <td>3</td>\n",
       "      <td>alekrasnodar</td>\n",
       "      <td>5 лет назад</td>\n",
       "      <td>2014-12-22T23:38:20+03:00</td>\n",
       "      <td>1.585448e+09</td>\n",
       "      <td>0</td>\n",
       "      <td>0</td>\n",
       "      <td>0</td>\n",
       "      <td>0</td>\n",
       "      <td>0</td>\n",
       "      <td>0</td>\n",
       "      <td>0</td>\n",
       "      <td>1</td>\n",
       "      <td>\\n     семья, по долгу отцовской профессии, по...</td>\n",
       "      <td>Языковой барьер.</td>\n",
       "      <td>7</td>\n",
       "    </tr>\n",
       "    <tr>\n",
       "      <th>3</th>\n",
       "      <td>не надо стесняться</td>\n",
       "      <td>79</td>\n",
       "      <td>\\nа что плохого в онанизме  в конце концов  вы...</td>\n",
       "      <td>[\"Вуди Аллен\", \"Юмор\"]</td>\n",
       "      <td>15</td>\n",
       "      <td>durdom0550</td>\n",
       "      <td>5 лет назад</td>\n",
       "      <td>2014-12-22T23:37:24+03:00</td>\n",
       "      <td>1.585448e+09</td>\n",
       "      <td>0</td>\n",
       "      <td>0</td>\n",
       "      <td>0</td>\n",
       "      <td>0</td>\n",
       "      <td>0</td>\n",
       "      <td>0</td>\n",
       "      <td>0</td>\n",
       "      <td>1</td>\n",
       "      <td>\\nа что плохого в онанизме? в конце концов, вы...</td>\n",
       "      <td>не надо стесняться</td>\n",
       "      <td>7</td>\n",
       "    </tr>\n",
       "    <tr>\n",
       "      <th>4</th>\n",
       "      <td>Не могу вспомнить название пластинки из детства</td>\n",
       "      <td>4</td>\n",
       "      <td>\\nвсем привет  в детстве была у меня пластинка...</td>\n",
       "      <td>[\"Пластинка\", \"Склероз\", \"Помощь\", \"Старое\", \"...</td>\n",
       "      <td>10</td>\n",
       "      <td>NiiBird</td>\n",
       "      <td>5 лет назад</td>\n",
       "      <td>2014-12-22T23:25:27+03:00</td>\n",
       "      <td>1.585448e+09</td>\n",
       "      <td>0</td>\n",
       "      <td>1</td>\n",
       "      <td>0</td>\n",
       "      <td>0</td>\n",
       "      <td>0</td>\n",
       "      <td>0</td>\n",
       "      <td>0</td>\n",
       "      <td>0</td>\n",
       "      <td>\\nвсем привет, в детстве была у меня пластинка...</td>\n",
       "      <td>Не могу вспомнить название пластинки из детства.</td>\n",
       "      <td>4</td>\n",
       "    </tr>\n",
       "    <tr>\n",
       "      <th>...</th>\n",
       "      <td>...</td>\n",
       "      <td>...</td>\n",
       "      <td>...</td>\n",
       "      <td>...</td>\n",
       "      <td>...</td>\n",
       "      <td>...</td>\n",
       "      <td>...</td>\n",
       "      <td>...</td>\n",
       "      <td>...</td>\n",
       "      <td>...</td>\n",
       "      <td>...</td>\n",
       "      <td>...</td>\n",
       "      <td>...</td>\n",
       "      <td>...</td>\n",
       "      <td>...</td>\n",
       "      <td>...</td>\n",
       "      <td>...</td>\n",
       "      <td>...</td>\n",
       "      <td>...</td>\n",
       "      <td>...</td>\n",
       "    </tr>\n",
       "    <tr>\n",
       "      <th>54595</th>\n",
       "      <td>Вдруг откуда не возьмись</td>\n",
       "      <td>-70</td>\n",
       "      <td>\\nеще совсем недавно все  политологи  и  экспе...</td>\n",
       "      <td>[\"Украина\", \"Кавказ\", \"Ненависть\", \"Любовь\", \"...</td>\n",
       "      <td>7</td>\n",
       "      <td>niochemnegovory</td>\n",
       "      <td>4 года назад</td>\n",
       "      <td>2015-06-26T01:12:42+03:00</td>\n",
       "      <td>1.585572e+09</td>\n",
       "      <td>1</td>\n",
       "      <td>0</td>\n",
       "      <td>0</td>\n",
       "      <td>0</td>\n",
       "      <td>0</td>\n",
       "      <td>0</td>\n",
       "      <td>0</td>\n",
       "      <td>0</td>\n",
       "      <td>\\nеще совсем недавно все \"политологи\" и \"экспе...</td>\n",
       "      <td>Вдруг откуда не возьмись.....</td>\n",
       "      <td>3</td>\n",
       "    </tr>\n",
       "    <tr>\n",
       "      <th>54596</th>\n",
       "      <td>Совет будущим студентам</td>\n",
       "      <td>1771</td>\n",
       "      <td>\\nсамое главное в общежитии   сохранять хороши...</td>\n",
       "      <td>[\"Общежитие\", \"Девушки\", \"Студенты\"]</td>\n",
       "      <td>72</td>\n",
       "      <td>samparam</td>\n",
       "      <td>4 года назад</td>\n",
       "      <td>2015-06-26T00:57:53+03:00</td>\n",
       "      <td>1.585572e+09</td>\n",
       "      <td>0</td>\n",
       "      <td>0</td>\n",
       "      <td>0</td>\n",
       "      <td>1</td>\n",
       "      <td>0</td>\n",
       "      <td>0</td>\n",
       "      <td>0</td>\n",
       "      <td>0</td>\n",
       "      <td>\\nсамое главное в общежитии - сохранять хороши...</td>\n",
       "      <td>Совет будущим студентам</td>\n",
       "      <td>0</td>\n",
       "    </tr>\n",
       "    <tr>\n",
       "      <th>54597</th>\n",
       "      <td>Пара анекдотов</td>\n",
       "      <td>-12</td>\n",
       "      <td>\\nк психоaнaлитику приходит нa прием женщинa  ...</td>\n",
       "      <td>[\"Анекдот\", \"Юмор\", \"Веселье\"]</td>\n",
       "      <td>1</td>\n",
       "      <td>5Aliment</td>\n",
       "      <td>4 года назад</td>\n",
       "      <td>2015-06-26T00:32:45+03:00</td>\n",
       "      <td>1.585572e+09</td>\n",
       "      <td>0</td>\n",
       "      <td>0</td>\n",
       "      <td>0</td>\n",
       "      <td>0</td>\n",
       "      <td>0</td>\n",
       "      <td>0</td>\n",
       "      <td>0</td>\n",
       "      <td>1</td>\n",
       "      <td>\\nк психоaнaлитику приходит нa прием женщинa. ...</td>\n",
       "      <td>Пара анекдотов</td>\n",
       "      <td>7</td>\n",
       "    </tr>\n",
       "    <tr>\n",
       "      <th>54598</th>\n",
       "      <td>Правдивая история о том  как Лена работала в п...</td>\n",
       "      <td>512</td>\n",
       "      <td>\\nя с большим наслаждением читала рассказы пик...</td>\n",
       "      <td>[\"Длиннотекст\", \"Работа\", \"Детский дом\", \"Прию...</td>\n",
       "      <td>80</td>\n",
       "      <td>CheburashkinoUho</td>\n",
       "      <td>4 года назад</td>\n",
       "      <td>2015-06-26T00:20:05+03:00</td>\n",
       "      <td>1.585572e+09</td>\n",
       "      <td>0</td>\n",
       "      <td>0</td>\n",
       "      <td>1</td>\n",
       "      <td>0</td>\n",
       "      <td>0</td>\n",
       "      <td>0</td>\n",
       "      <td>0</td>\n",
       "      <td>0</td>\n",
       "      <td>\\nя с большим наслаждением читала рассказы пик...</td>\n",
       "      <td>Правдивая история о том, как Лена работала в п...</td>\n",
       "      <td>1</td>\n",
       "    </tr>\n",
       "    <tr>\n",
       "      <th>54599</th>\n",
       "      <td>За час до защиты</td>\n",
       "      <td>606</td>\n",
       "      <td>\\nперед защитой диплома состоялся такой диалог...</td>\n",
       "      <td>[\"Учеба\", \"Преподаватель\", \"Юмор\", \"Диплом\"]</td>\n",
       "      <td>47</td>\n",
       "      <td>Vaasilina</td>\n",
       "      <td>4 года назад</td>\n",
       "      <td>2015-06-26T00:16:24+03:00</td>\n",
       "      <td>1.585572e+09</td>\n",
       "      <td>0</td>\n",
       "      <td>0</td>\n",
       "      <td>0</td>\n",
       "      <td>0</td>\n",
       "      <td>0</td>\n",
       "      <td>0</td>\n",
       "      <td>0</td>\n",
       "      <td>1</td>\n",
       "      <td>\\nперед защитой диплома состоялся такой диалог...</td>\n",
       "      <td>За час до защиты</td>\n",
       "      <td>7</td>\n",
       "    </tr>\n",
       "  </tbody>\n",
       "</table>\n",
       "<p>51416 rows × 20 columns</p>\n",
       "</div>"
      ],
      "text/plain": [
       "                                                   TITLE  LIKES  \\\n",
       "0                                      Хорошо быть бабой    245   \n",
       "1                                  Рим история циклична       3   \n",
       "2                                       Языковой барьер      73   \n",
       "3                                     не надо стесняться     79   \n",
       "4       Не могу вспомнить название пластинки из детства       4   \n",
       "...                                                  ...    ...   \n",
       "54595                          Вдруг откуда не возьмись     -70   \n",
       "54596                            Совет будущим студентам   1771   \n",
       "54597                                     Пара анекдотов    -12   \n",
       "54598  Правдивая история о том  как Лена работала в п...    512   \n",
       "54599                                   За час до защиты    606   \n",
       "\n",
       "                                                    TEXT  \\\n",
       "0      \\nхорошо быть бабой   загрустила  сфоткала себ...   \n",
       "1      \\nлегионы  легионы \\nопоясали страну\\nматерят ...   \n",
       "2      \\n     семья  по долгу отцовской профессии  по...   \n",
       "3      \\nа что плохого в онанизме  в конце концов  вы...   \n",
       "4      \\nвсем привет  в детстве была у меня пластинка...   \n",
       "...                                                  ...   \n",
       "54595  \\nеще совсем недавно все  политологи  и  экспе...   \n",
       "54596  \\nсамое главное в общежитии   сохранять хороши...   \n",
       "54597  \\nк психоaнaлитику приходит нa прием женщинa  ...   \n",
       "54598  \\nя с большим наслаждением читала рассказы пик...   \n",
       "54599  \\nперед защитой диплома состоялся такой диалог...   \n",
       "\n",
       "                                                    TAGS  COMMENTS  \\\n",
       "0                                 [\"Девушки\", \"Счастье\"]        38   \n",
       "1                   [\"Рим\", \"История\", \"Война\", \"Стихи\"]        12   \n",
       "2                            [\"Язык\", \"Украина\", \"Юмор\"]         3   \n",
       "3                                 [\"Вуди Аллен\", \"Юмор\"]        15   \n",
       "4      [\"Пластинка\", \"Склероз\", \"Помощь\", \"Старое\", \"...        10   \n",
       "...                                                  ...       ...   \n",
       "54595  [\"Украина\", \"Кавказ\", \"Ненависть\", \"Любовь\", \"...         7   \n",
       "54596               [\"Общежитие\", \"Девушки\", \"Студенты\"]        72   \n",
       "54597                     [\"Анекдот\", \"Юмор\", \"Веселье\"]         1   \n",
       "54598  [\"Длиннотекст\", \"Работа\", \"Детский дом\", \"Прию...        80   \n",
       "54599       [\"Учеба\", \"Преподаватель\", \"Юмор\", \"Диплом\"]        47   \n",
       "\n",
       "               NICKNAME      TIME_GAP                  TIMESTAMP  \\\n",
       "0             Viruso4ek   5 лет назад  2014-12-22T23:52:56+03:00   \n",
       "1           lokibrother   5 лет назад  2014-12-22T23:49:08+03:00   \n",
       "2          alekrasnodar   5 лет назад  2014-12-22T23:38:20+03:00   \n",
       "3            durdom0550   5 лет назад  2014-12-22T23:37:24+03:00   \n",
       "4               NiiBird   5 лет назад  2014-12-22T23:25:27+03:00   \n",
       "...                 ...           ...                        ...   \n",
       "54595   niochemnegovory  4 года назад  2015-06-26T01:12:42+03:00   \n",
       "54596          samparam  4 года назад  2015-06-26T00:57:53+03:00   \n",
       "54597          5Aliment  4 года назад  2015-06-26T00:32:45+03:00   \n",
       "54598  CheburashkinoUho  4 года назад  2015-06-26T00:20:05+03:00   \n",
       "54599         Vaasilina  4 года назад  2015-06-26T00:16:24+03:00   \n",
       "\n",
       "       CURRENT_TIMESTAMP  политика  помощь  дети  девушки  отношения  рассказ  \\\n",
       "0           1.585448e+09         0       0     0        1          0        0   \n",
       "1           1.585448e+09         0       0     0        0          0        0   \n",
       "2           1.585448e+09         0       0     0        0          0        0   \n",
       "3           1.585448e+09         0       0     0        0          0        0   \n",
       "4           1.585448e+09         0       1     0        0          0        0   \n",
       "...                  ...       ...     ...   ...      ...        ...      ...   \n",
       "54595       1.585572e+09         1       0     0        0          0        0   \n",
       "54596       1.585572e+09         0       0     0        1          0        0   \n",
       "54597       1.585572e+09         0       0     0        0          0        0   \n",
       "54598       1.585572e+09         0       0     1        0          0        0   \n",
       "54599       1.585572e+09         0       0     0        0          0        0   \n",
       "\n",
       "       стихи  юмор                                         TEXT_PUNCT  \\\n",
       "0          0     0  \\nхорошо быть бабой - загрустила, сфоткала себ...   \n",
       "1          1     0  \\nлегионы, легионы \\nопоясали страну\\nматерят ...   \n",
       "2          0     1  \\n     семья, по долгу отцовской профессии, по...   \n",
       "3          0     1  \\nа что плохого в онанизме? в конце концов, вы...   \n",
       "4          0     0  \\nвсем привет, в детстве была у меня пластинка...   \n",
       "...      ...   ...                                                ...   \n",
       "54595      0     0  \\nеще совсем недавно все \"политологи\" и \"экспе...   \n",
       "54596      0     0  \\nсамое главное в общежитии - сохранять хороши...   \n",
       "54597      0     1  \\nк психоaнaлитику приходит нa прием женщинa. ...   \n",
       "54598      0     0  \\nя с большим наслаждением читала рассказы пик...   \n",
       "54599      0     1  \\nперед защитой диплома состоялся такой диалог...   \n",
       "\n",
       "                                             TITLE_PUNCT  target  \n",
       "0                                      Хорошо быть бабой       0  \n",
       "1                                  Рим(история циклична)       6  \n",
       "2                                       Языковой барьер.       7  \n",
       "3                                     не надо стесняться       7  \n",
       "4       Не могу вспомнить название пластинки из детства.       4  \n",
       "...                                                  ...     ...  \n",
       "54595                      Вдруг откуда не возьмись.....       3  \n",
       "54596                            Совет будущим студентам       0  \n",
       "54597                                     Пара анекдотов       7  \n",
       "54598  Правдивая история о том, как Лена работала в п...       1  \n",
       "54599                                   За час до защиты       7  \n",
       "\n",
       "[51416 rows x 20 columns]"
      ]
     },
     "execution_count": 55,
     "metadata": {},
     "output_type": "execute_result"
    }
   ],
   "source": [
    "df_strict"
   ]
  },
  {
   "cell_type": "code",
   "execution_count": 43,
   "metadata": {
    "ExecuteTime": {
     "end_time": "2021-01-13T00:13:21.770593Z",
     "start_time": "2021-01-13T00:13:21.717853Z"
    }
   },
   "outputs": [
    {
     "data": {
      "text/plain": [
       "политика      9441\n",
       "помощь       13171\n",
       "дети          4865\n",
       "девушки       3263\n",
       "отношения     2282\n",
       "рассказ       4764\n",
       "стихи         4357\n",
       "юмор          9273\n",
       "dtype: int64"
      ]
     },
     "execution_count": 43,
     "metadata": {},
     "output_type": "execute_result"
    }
   ],
   "source": [
    "df_strict[target_tags].sum(axis=0)"
   ]
  },
  {
   "cell_type": "code",
   "execution_count": 56,
   "metadata": {
    "ExecuteTime": {
     "end_time": "2021-01-13T00:20:26.811665Z",
     "start_time": "2021-01-13T00:20:26.785636Z"
    }
   },
   "outputs": [],
   "source": [
    "for x in target_tags:\n",
    "    del df_strict[x]"
   ]
  },
  {
   "cell_type": "code",
   "execution_count": 57,
   "metadata": {
    "ExecuteTime": {
     "end_time": "2021-01-13T00:20:31.942838Z",
     "start_time": "2021-01-13T00:20:31.827928Z"
    },
    "collapsed": true
   },
   "outputs": [
    {
     "data": {
      "text/html": [
       "<div>\n",
       "<style scoped>\n",
       "    .dataframe tbody tr th:only-of-type {\n",
       "        vertical-align: middle;\n",
       "    }\n",
       "\n",
       "    .dataframe tbody tr th {\n",
       "        vertical-align: top;\n",
       "    }\n",
       "\n",
       "    .dataframe thead th {\n",
       "        text-align: right;\n",
       "    }\n",
       "</style>\n",
       "<table border=\"1\" class=\"dataframe\">\n",
       "  <thead>\n",
       "    <tr style=\"text-align: right;\">\n",
       "      <th></th>\n",
       "      <th>TITLE</th>\n",
       "      <th>LIKES</th>\n",
       "      <th>TEXT</th>\n",
       "      <th>TAGS</th>\n",
       "      <th>COMMENTS</th>\n",
       "      <th>NICKNAME</th>\n",
       "      <th>TIME_GAP</th>\n",
       "      <th>TIMESTAMP</th>\n",
       "      <th>CURRENT_TIMESTAMP</th>\n",
       "      <th>TEXT_PUNCT</th>\n",
       "      <th>TITLE_PUNCT</th>\n",
       "      <th>target</th>\n",
       "    </tr>\n",
       "  </thead>\n",
       "  <tbody>\n",
       "    <tr>\n",
       "      <th>0</th>\n",
       "      <td>Хорошо быть бабой</td>\n",
       "      <td>245</td>\n",
       "      <td>\\nхорошо быть бабой   загрустила  сфоткала себ...</td>\n",
       "      <td>[\"Девушки\", \"Счастье\"]</td>\n",
       "      <td>38</td>\n",
       "      <td>Viruso4ek</td>\n",
       "      <td>5 лет назад</td>\n",
       "      <td>2014-12-22T23:52:56+03:00</td>\n",
       "      <td>1.585448e+09</td>\n",
       "      <td>\\nхорошо быть бабой - загрустила, сфоткала себ...</td>\n",
       "      <td>Хорошо быть бабой</td>\n",
       "      <td>0</td>\n",
       "    </tr>\n",
       "    <tr>\n",
       "      <th>1</th>\n",
       "      <td>Рим история циклична</td>\n",
       "      <td>3</td>\n",
       "      <td>\\nлегионы  легионы \\nопоясали страну\\nматерят ...</td>\n",
       "      <td>[\"Рим\", \"История\", \"Война\", \"Стихи\"]</td>\n",
       "      <td>12</td>\n",
       "      <td>lokibrother</td>\n",
       "      <td>5 лет назад</td>\n",
       "      <td>2014-12-22T23:49:08+03:00</td>\n",
       "      <td>1.585448e+09</td>\n",
       "      <td>\\nлегионы, легионы \\nопоясали страну\\nматерят ...</td>\n",
       "      <td>Рим(история циклична)</td>\n",
       "      <td>6</td>\n",
       "    </tr>\n",
       "    <tr>\n",
       "      <th>2</th>\n",
       "      <td>Языковой барьер</td>\n",
       "      <td>73</td>\n",
       "      <td>\\n     семья  по долгу отцовской профессии  по...</td>\n",
       "      <td>[\"Язык\", \"Украина\", \"Юмор\"]</td>\n",
       "      <td>3</td>\n",
       "      <td>alekrasnodar</td>\n",
       "      <td>5 лет назад</td>\n",
       "      <td>2014-12-22T23:38:20+03:00</td>\n",
       "      <td>1.585448e+09</td>\n",
       "      <td>\\n     семья, по долгу отцовской профессии, по...</td>\n",
       "      <td>Языковой барьер.</td>\n",
       "      <td>7</td>\n",
       "    </tr>\n",
       "    <tr>\n",
       "      <th>3</th>\n",
       "      <td>не надо стесняться</td>\n",
       "      <td>79</td>\n",
       "      <td>\\nа что плохого в онанизме  в конце концов  вы...</td>\n",
       "      <td>[\"Вуди Аллен\", \"Юмор\"]</td>\n",
       "      <td>15</td>\n",
       "      <td>durdom0550</td>\n",
       "      <td>5 лет назад</td>\n",
       "      <td>2014-12-22T23:37:24+03:00</td>\n",
       "      <td>1.585448e+09</td>\n",
       "      <td>\\nа что плохого в онанизме? в конце концов, вы...</td>\n",
       "      <td>не надо стесняться</td>\n",
       "      <td>7</td>\n",
       "    </tr>\n",
       "    <tr>\n",
       "      <th>4</th>\n",
       "      <td>Не могу вспомнить название пластинки из детства</td>\n",
       "      <td>4</td>\n",
       "      <td>\\nвсем привет  в детстве была у меня пластинка...</td>\n",
       "      <td>[\"Пластинка\", \"Склероз\", \"Помощь\", \"Старое\", \"...</td>\n",
       "      <td>10</td>\n",
       "      <td>NiiBird</td>\n",
       "      <td>5 лет назад</td>\n",
       "      <td>2014-12-22T23:25:27+03:00</td>\n",
       "      <td>1.585448e+09</td>\n",
       "      <td>\\nвсем привет, в детстве была у меня пластинка...</td>\n",
       "      <td>Не могу вспомнить название пластинки из детства.</td>\n",
       "      <td>4</td>\n",
       "    </tr>\n",
       "    <tr>\n",
       "      <th>...</th>\n",
       "      <td>...</td>\n",
       "      <td>...</td>\n",
       "      <td>...</td>\n",
       "      <td>...</td>\n",
       "      <td>...</td>\n",
       "      <td>...</td>\n",
       "      <td>...</td>\n",
       "      <td>...</td>\n",
       "      <td>...</td>\n",
       "      <td>...</td>\n",
       "      <td>...</td>\n",
       "      <td>...</td>\n",
       "    </tr>\n",
       "    <tr>\n",
       "      <th>54595</th>\n",
       "      <td>Вдруг откуда не возьмись</td>\n",
       "      <td>-70</td>\n",
       "      <td>\\nеще совсем недавно все  политологи  и  экспе...</td>\n",
       "      <td>[\"Украина\", \"Кавказ\", \"Ненависть\", \"Любовь\", \"...</td>\n",
       "      <td>7</td>\n",
       "      <td>niochemnegovory</td>\n",
       "      <td>4 года назад</td>\n",
       "      <td>2015-06-26T01:12:42+03:00</td>\n",
       "      <td>1.585572e+09</td>\n",
       "      <td>\\nеще совсем недавно все \"политологи\" и \"экспе...</td>\n",
       "      <td>Вдруг откуда не возьмись.....</td>\n",
       "      <td>3</td>\n",
       "    </tr>\n",
       "    <tr>\n",
       "      <th>54596</th>\n",
       "      <td>Совет будущим студентам</td>\n",
       "      <td>1771</td>\n",
       "      <td>\\nсамое главное в общежитии   сохранять хороши...</td>\n",
       "      <td>[\"Общежитие\", \"Девушки\", \"Студенты\"]</td>\n",
       "      <td>72</td>\n",
       "      <td>samparam</td>\n",
       "      <td>4 года назад</td>\n",
       "      <td>2015-06-26T00:57:53+03:00</td>\n",
       "      <td>1.585572e+09</td>\n",
       "      <td>\\nсамое главное в общежитии - сохранять хороши...</td>\n",
       "      <td>Совет будущим студентам</td>\n",
       "      <td>0</td>\n",
       "    </tr>\n",
       "    <tr>\n",
       "      <th>54597</th>\n",
       "      <td>Пара анекдотов</td>\n",
       "      <td>-12</td>\n",
       "      <td>\\nк психоaнaлитику приходит нa прием женщинa  ...</td>\n",
       "      <td>[\"Анекдот\", \"Юмор\", \"Веселье\"]</td>\n",
       "      <td>1</td>\n",
       "      <td>5Aliment</td>\n",
       "      <td>4 года назад</td>\n",
       "      <td>2015-06-26T00:32:45+03:00</td>\n",
       "      <td>1.585572e+09</td>\n",
       "      <td>\\nк психоaнaлитику приходит нa прием женщинa. ...</td>\n",
       "      <td>Пара анекдотов</td>\n",
       "      <td>7</td>\n",
       "    </tr>\n",
       "    <tr>\n",
       "      <th>54598</th>\n",
       "      <td>Правдивая история о том  как Лена работала в п...</td>\n",
       "      <td>512</td>\n",
       "      <td>\\nя с большим наслаждением читала рассказы пик...</td>\n",
       "      <td>[\"Длиннотекст\", \"Работа\", \"Детский дом\", \"Прию...</td>\n",
       "      <td>80</td>\n",
       "      <td>CheburashkinoUho</td>\n",
       "      <td>4 года назад</td>\n",
       "      <td>2015-06-26T00:20:05+03:00</td>\n",
       "      <td>1.585572e+09</td>\n",
       "      <td>\\nя с большим наслаждением читала рассказы пик...</td>\n",
       "      <td>Правдивая история о том, как Лена работала в п...</td>\n",
       "      <td>1</td>\n",
       "    </tr>\n",
       "    <tr>\n",
       "      <th>54599</th>\n",
       "      <td>За час до защиты</td>\n",
       "      <td>606</td>\n",
       "      <td>\\nперед защитой диплома состоялся такой диалог...</td>\n",
       "      <td>[\"Учеба\", \"Преподаватель\", \"Юмор\", \"Диплом\"]</td>\n",
       "      <td>47</td>\n",
       "      <td>Vaasilina</td>\n",
       "      <td>4 года назад</td>\n",
       "      <td>2015-06-26T00:16:24+03:00</td>\n",
       "      <td>1.585572e+09</td>\n",
       "      <td>\\nперед защитой диплома состоялся такой диалог...</td>\n",
       "      <td>За час до защиты</td>\n",
       "      <td>7</td>\n",
       "    </tr>\n",
       "  </tbody>\n",
       "</table>\n",
       "<p>51416 rows × 12 columns</p>\n",
       "</div>"
      ],
      "text/plain": [
       "                                                   TITLE  LIKES  \\\n",
       "0                                      Хорошо быть бабой    245   \n",
       "1                                  Рим история циклична       3   \n",
       "2                                       Языковой барьер      73   \n",
       "3                                     не надо стесняться     79   \n",
       "4       Не могу вспомнить название пластинки из детства       4   \n",
       "...                                                  ...    ...   \n",
       "54595                          Вдруг откуда не возьмись     -70   \n",
       "54596                            Совет будущим студентам   1771   \n",
       "54597                                     Пара анекдотов    -12   \n",
       "54598  Правдивая история о том  как Лена работала в п...    512   \n",
       "54599                                   За час до защиты    606   \n",
       "\n",
       "                                                    TEXT  \\\n",
       "0      \\nхорошо быть бабой   загрустила  сфоткала себ...   \n",
       "1      \\nлегионы  легионы \\nопоясали страну\\nматерят ...   \n",
       "2      \\n     семья  по долгу отцовской профессии  по...   \n",
       "3      \\nа что плохого в онанизме  в конце концов  вы...   \n",
       "4      \\nвсем привет  в детстве была у меня пластинка...   \n",
       "...                                                  ...   \n",
       "54595  \\nеще совсем недавно все  политологи  и  экспе...   \n",
       "54596  \\nсамое главное в общежитии   сохранять хороши...   \n",
       "54597  \\nк психоaнaлитику приходит нa прием женщинa  ...   \n",
       "54598  \\nя с большим наслаждением читала рассказы пик...   \n",
       "54599  \\nперед защитой диплома состоялся такой диалог...   \n",
       "\n",
       "                                                    TAGS  COMMENTS  \\\n",
       "0                                 [\"Девушки\", \"Счастье\"]        38   \n",
       "1                   [\"Рим\", \"История\", \"Война\", \"Стихи\"]        12   \n",
       "2                            [\"Язык\", \"Украина\", \"Юмор\"]         3   \n",
       "3                                 [\"Вуди Аллен\", \"Юмор\"]        15   \n",
       "4      [\"Пластинка\", \"Склероз\", \"Помощь\", \"Старое\", \"...        10   \n",
       "...                                                  ...       ...   \n",
       "54595  [\"Украина\", \"Кавказ\", \"Ненависть\", \"Любовь\", \"...         7   \n",
       "54596               [\"Общежитие\", \"Девушки\", \"Студенты\"]        72   \n",
       "54597                     [\"Анекдот\", \"Юмор\", \"Веселье\"]         1   \n",
       "54598  [\"Длиннотекст\", \"Работа\", \"Детский дом\", \"Прию...        80   \n",
       "54599       [\"Учеба\", \"Преподаватель\", \"Юмор\", \"Диплом\"]        47   \n",
       "\n",
       "               NICKNAME      TIME_GAP                  TIMESTAMP  \\\n",
       "0             Viruso4ek   5 лет назад  2014-12-22T23:52:56+03:00   \n",
       "1           lokibrother   5 лет назад  2014-12-22T23:49:08+03:00   \n",
       "2          alekrasnodar   5 лет назад  2014-12-22T23:38:20+03:00   \n",
       "3            durdom0550   5 лет назад  2014-12-22T23:37:24+03:00   \n",
       "4               NiiBird   5 лет назад  2014-12-22T23:25:27+03:00   \n",
       "...                 ...           ...                        ...   \n",
       "54595   niochemnegovory  4 года назад  2015-06-26T01:12:42+03:00   \n",
       "54596          samparam  4 года назад  2015-06-26T00:57:53+03:00   \n",
       "54597          5Aliment  4 года назад  2015-06-26T00:32:45+03:00   \n",
       "54598  CheburashkinoUho  4 года назад  2015-06-26T00:20:05+03:00   \n",
       "54599         Vaasilina  4 года назад  2015-06-26T00:16:24+03:00   \n",
       "\n",
       "       CURRENT_TIMESTAMP                                         TEXT_PUNCT  \\\n",
       "0           1.585448e+09  \\nхорошо быть бабой - загрустила, сфоткала себ...   \n",
       "1           1.585448e+09  \\nлегионы, легионы \\nопоясали страну\\nматерят ...   \n",
       "2           1.585448e+09  \\n     семья, по долгу отцовской профессии, по...   \n",
       "3           1.585448e+09  \\nа что плохого в онанизме? в конце концов, вы...   \n",
       "4           1.585448e+09  \\nвсем привет, в детстве была у меня пластинка...   \n",
       "...                  ...                                                ...   \n",
       "54595       1.585572e+09  \\nеще совсем недавно все \"политологи\" и \"экспе...   \n",
       "54596       1.585572e+09  \\nсамое главное в общежитии - сохранять хороши...   \n",
       "54597       1.585572e+09  \\nк психоaнaлитику приходит нa прием женщинa. ...   \n",
       "54598       1.585572e+09  \\nя с большим наслаждением читала рассказы пик...   \n",
       "54599       1.585572e+09  \\nперед защитой диплома состоялся такой диалог...   \n",
       "\n",
       "                                             TITLE_PUNCT  target  \n",
       "0                                      Хорошо быть бабой       0  \n",
       "1                                  Рим(история циклична)       6  \n",
       "2                                       Языковой барьер.       7  \n",
       "3                                     не надо стесняться       7  \n",
       "4       Не могу вспомнить название пластинки из детства.       4  \n",
       "...                                                  ...     ...  \n",
       "54595                      Вдруг откуда не возьмись.....       3  \n",
       "54596                            Совет будущим студентам       0  \n",
       "54597                                     Пара анекдотов       7  \n",
       "54598  Правдивая история о том, как Лена работала в п...       1  \n",
       "54599                                   За час до защиты       7  \n",
       "\n",
       "[51416 rows x 12 columns]"
      ]
     },
     "execution_count": 57,
     "metadata": {},
     "output_type": "execute_result"
    }
   ],
   "source": [
    "df_strict"
   ]
  },
  {
   "cell_type": "code",
   "execution_count": 58,
   "metadata": {
    "ExecuteTime": {
     "end_time": "2021-01-13T00:20:52.516343Z",
     "start_time": "2021-01-13T00:20:42.230595Z"
    }
   },
   "outputs": [],
   "source": [
    "df_strict.to_csv('../data/preprocessed_strict.csv')"
   ]
  },
  {
   "cell_type": "code",
   "execution_count": 32,
   "metadata": {
    "ExecuteTime": {
     "end_time": "2021-01-12T23:25:49.659356Z",
     "start_time": "2021-01-12T23:25:49.024936Z"
    }
   },
   "outputs": [],
   "source": [
    "df_fuzzy.to_csv('../data/preprocessed_fuzzy.csv')"
   ]
  },
  {
   "cell_type": "code",
   "execution_count": 33,
   "metadata": {
    "ExecuteTime": {
     "end_time": "2021-01-12T23:25:56.320155Z",
     "start_time": "2021-01-12T23:25:49.661598Z"
    }
   },
   "outputs": [],
   "source": [
    "df_strict = pd.read_csv('../data/preprocessed_strict.csv')"
   ]
  },
  {
   "cell_type": "code",
   "execution_count": 34,
   "metadata": {
    "ExecuteTime": {
     "end_time": "2021-01-12T23:25:56.341015Z",
     "start_time": "2021-01-12T23:25:56.322104Z"
    }
   },
   "outputs": [
    {
     "data": {
      "text/plain": [
       "(51416, 20)"
      ]
     },
     "execution_count": 34,
     "metadata": {},
     "output_type": "execute_result"
    }
   ],
   "source": [
    "df_strict.shape"
   ]
  },
  {
   "cell_type": "code",
   "execution_count": 35,
   "metadata": {
    "ExecuteTime": {
     "end_time": "2021-01-12T23:25:56.394549Z",
     "start_time": "2021-01-12T23:25:56.345265Z"
    }
   },
   "outputs": [],
   "source": [
    "df_strict.drop(index=df_strict[df_strict['TEXT'].isnull()].index, inplace=True)"
   ]
  },
  {
   "cell_type": "code",
   "execution_count": 36,
   "metadata": {
    "ExecuteTime": {
     "end_time": "2021-01-12T23:25:56.419754Z",
     "start_time": "2021-01-12T23:25:56.397229Z"
    }
   },
   "outputs": [
    {
     "data": {
      "text/plain": [
       "(51416, 20)"
      ]
     },
     "execution_count": 36,
     "metadata": {},
     "output_type": "execute_result"
    }
   ],
   "source": [
    "df_strict.shape"
   ]
  },
  {
   "cell_type": "code",
   "execution_count": null,
   "metadata": {},
   "outputs": [],
   "source": [
    "df_strict.to_csv('../data/processed/preprocessed_strict.csv')"
   ]
  }
 ],
 "metadata": {
  "kernelspec": {
   "display_name": "inf-retr",
   "language": "python",
   "name": "inf-retr"
  },
  "language_info": {
   "codemirror_mode": {
    "name": "ipython",
    "version": 3
   },
   "file_extension": ".py",
   "mimetype": "text/x-python",
   "name": "python",
   "nbconvert_exporter": "python",
   "pygments_lexer": "ipython3",
   "version": "3.8.5"
  },
  "varInspector": {
   "cols": {
    "lenName": 16,
    "lenType": 16,
    "lenVar": 40
   },
   "kernels_config": {
    "python": {
     "delete_cmd_postfix": "",
     "delete_cmd_prefix": "del ",
     "library": "var_list.py",
     "varRefreshCmd": "print(var_dic_list())"
    },
    "r": {
     "delete_cmd_postfix": ") ",
     "delete_cmd_prefix": "rm(",
     "library": "var_list.r",
     "varRefreshCmd": "cat(var_dic_list()) "
    }
   },
   "types_to_exclude": [
    "module",
    "function",
    "builtin_function_or_method",
    "instance",
    "_Feature"
   ],
   "window_display": false
  }
 },
 "nbformat": 4,
 "nbformat_minor": 4
}
