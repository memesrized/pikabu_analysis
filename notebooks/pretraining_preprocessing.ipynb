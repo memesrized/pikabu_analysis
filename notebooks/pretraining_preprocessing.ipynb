{
 "cells": [
  {
   "cell_type": "code",
   "execution_count": 34,
   "metadata": {
    "ExecuteTime": {
     "end_time": "2021-01-13T00:27:20.314205Z",
     "start_time": "2021-01-13T00:27:20.296075Z"
    }
   },
   "outputs": [],
   "source": [
    "import pandas as pd\n",
    "import numpy as np\n",
    "import json"
   ]
  },
  {
   "cell_type": "markdown",
   "metadata": {
    "ExecuteTime": {
     "end_time": "2020-04-30T11:49:52.594222Z",
     "start_time": "2020-04-30T11:49:52.585590Z"
    }
   },
   "source": [
    "Numerical:\n",
    "1. Likes\n",
    "2. Comments\n",
    "\n",
    "Categorical:\n",
    "1. Tags, __DO NOT FORGET TO REMOVE TARGET TAGS OR SIMPLY DROP THIS COL__\n",
    "2. Nickname, is this col meaningful?\n",
    "3. Time gap\n",
    "\n",
    "Text:\n",
    "1. Title (PuncTitle)\n",
    "2. Text (PuncText)\n",
    "\n",
    "Time:\n",
    "1. Timestamp"
   ]
  },
  {
   "cell_type": "code",
   "execution_count": 35,
   "metadata": {
    "ExecuteTime": {
     "end_time": "2021-01-13T00:27:27.333604Z",
     "start_time": "2021-01-13T00:27:20.746695Z"
    }
   },
   "outputs": [],
   "source": [
    "df = pd.read_csv(\"../data/preprocessed_strict.csv\", index_col=0)"
   ]
  },
  {
   "cell_type": "code",
   "execution_count": 36,
   "metadata": {
    "ExecuteTime": {
     "end_time": "2021-01-13T00:27:28.236283Z",
     "start_time": "2021-01-13T00:27:27.336904Z"
    }
   },
   "outputs": [
    {
     "name": "stdout",
     "output_type": "stream",
     "text": [
      "(51416, 11)\n",
      "(51410, 11)\n"
     ]
    },
    {
     "name": "stderr",
     "output_type": "stream",
     "text": [
      "<ipython-input-36-15224741ae41>:6: SettingWithCopyWarning: \n",
      "A value is trying to be set on a copy of a slice from a DataFrame\n",
      "\n",
      "See the caveats in the documentation: https://pandas.pydata.org/pandas-docs/stable/user_guide/indexing.html#returning-a-view-versus-a-copy\n",
      "  df[\"TITLE\"][df['TITLE'].isnull()] = ''\n"
     ]
    }
   ],
   "source": [
    "df.drop(columns=['CURRENT_TIMESTAMP'], inplace=True)\n",
    "df.TITLE = df.TITLE.str.lower()\n",
    "df[\"TIMESTAMP\"] = pd.to_datetime(df['TIMESTAMP'])\n",
    "print(df.shape)\n",
    "df.drop(df[df['TITLE'] == 'удалено'].index, inplace=True)\n",
    "df[\"TITLE\"][df['TITLE'].isnull()] = ''\n",
    "print(df.shape)"
   ]
  },
  {
   "cell_type": "code",
   "execution_count": 37,
   "metadata": {
    "ExecuteTime": {
     "end_time": "2021-01-13T00:27:29.495980Z",
     "start_time": "2021-01-13T00:27:28.239343Z"
    }
   },
   "outputs": [
    {
     "name": "stderr",
     "output_type": "stream",
     "text": [
      "<ipython-input-37-9e8a95b6654e>:5: FutureWarning: weekofyear and week have been deprecated, please use DatetimeIndex.isocalendar().week instead, which returns a Series.  To exactly reproduce the behavior of week and weekofyear and return an Index, you may call pd.Int64Index(idx.isocalendar().week)\n",
      "  df[\"WEEK\"] = df[\"TIMESTAMP\"].map(lambda x: x.week)\n"
     ]
    }
   ],
   "source": [
    "df[\"HOUR\"] = df[\"TIMESTAMP\"].map(lambda x: x.hour)\n",
    "df[\"YEAR\"] = df[\"TIMESTAMP\"].map(lambda x: x.year)\n",
    "df[\"MONTH\"] = df[\"TIMESTAMP\"].map(lambda x: x.month)\n",
    "df[\"WEEKDAY\"] = df[\"TIMESTAMP\"].map(lambda x: x.weekday())\n",
    "df[\"WEEK\"] = df[\"TIMESTAMP\"].map(lambda x: x.week)"
   ]
  },
  {
   "cell_type": "code",
   "execution_count": 38,
   "metadata": {
    "ExecuteTime": {
     "end_time": "2021-01-13T00:27:29.522647Z",
     "start_time": "2021-01-13T00:27:29.499219Z"
    }
   },
   "outputs": [
    {
     "data": {
      "text/html": [
       "<div>\n",
       "<style scoped>\n",
       "    .dataframe tbody tr th:only-of-type {\n",
       "        vertical-align: middle;\n",
       "    }\n",
       "\n",
       "    .dataframe tbody tr th {\n",
       "        vertical-align: top;\n",
       "    }\n",
       "\n",
       "    .dataframe thead th {\n",
       "        text-align: right;\n",
       "    }\n",
       "</style>\n",
       "<table border=\"1\" class=\"dataframe\">\n",
       "  <thead>\n",
       "    <tr style=\"text-align: right;\">\n",
       "      <th></th>\n",
       "      <th>TITLE</th>\n",
       "      <th>LIKES</th>\n",
       "      <th>TEXT</th>\n",
       "      <th>TAGS</th>\n",
       "      <th>COMMENTS</th>\n",
       "      <th>NICKNAME</th>\n",
       "      <th>TIME_GAP</th>\n",
       "      <th>TIMESTAMP</th>\n",
       "      <th>TEXT_PUNCT</th>\n",
       "      <th>TITLE_PUNCT</th>\n",
       "      <th>target</th>\n",
       "      <th>HOUR</th>\n",
       "      <th>YEAR</th>\n",
       "      <th>MONTH</th>\n",
       "      <th>WEEKDAY</th>\n",
       "      <th>WEEK</th>\n",
       "    </tr>\n",
       "  </thead>\n",
       "  <tbody>\n",
       "    <tr>\n",
       "      <th>0</th>\n",
       "      <td>хорошо быть бабой</td>\n",
       "      <td>245</td>\n",
       "      <td>\\nхорошо быть бабой   загрустила  сфоткала себ...</td>\n",
       "      <td>[\"Девушки\", \"Счастье\"]</td>\n",
       "      <td>38</td>\n",
       "      <td>Viruso4ek</td>\n",
       "      <td>5 лет назад</td>\n",
       "      <td>2014-12-22 23:52:56+03:00</td>\n",
       "      <td>\\nхорошо быть бабой - загрустила, сфоткала себ...</td>\n",
       "      <td>Хорошо быть бабой</td>\n",
       "      <td>0</td>\n",
       "      <td>23</td>\n",
       "      <td>2014</td>\n",
       "      <td>12</td>\n",
       "      <td>0</td>\n",
       "      <td>52</td>\n",
       "    </tr>\n",
       "    <tr>\n",
       "      <th>1</th>\n",
       "      <td>рим история циклична</td>\n",
       "      <td>3</td>\n",
       "      <td>\\nлегионы  легионы \\nопоясали страну\\nматерят ...</td>\n",
       "      <td>[\"Рим\", \"История\", \"Война\", \"Стихи\"]</td>\n",
       "      <td>12</td>\n",
       "      <td>lokibrother</td>\n",
       "      <td>5 лет назад</td>\n",
       "      <td>2014-12-22 23:49:08+03:00</td>\n",
       "      <td>\\nлегионы, легионы \\nопоясали страну\\nматерят ...</td>\n",
       "      <td>Рим(история циклична)</td>\n",
       "      <td>6</td>\n",
       "      <td>23</td>\n",
       "      <td>2014</td>\n",
       "      <td>12</td>\n",
       "      <td>0</td>\n",
       "      <td>52</td>\n",
       "    </tr>\n",
       "    <tr>\n",
       "      <th>2</th>\n",
       "      <td>языковой барьер</td>\n",
       "      <td>73</td>\n",
       "      <td>\\n     семья  по долгу отцовской профессии  по...</td>\n",
       "      <td>[\"Язык\", \"Украина\", \"Юмор\"]</td>\n",
       "      <td>3</td>\n",
       "      <td>alekrasnodar</td>\n",
       "      <td>5 лет назад</td>\n",
       "      <td>2014-12-22 23:38:20+03:00</td>\n",
       "      <td>\\n     семья, по долгу отцовской профессии, по...</td>\n",
       "      <td>Языковой барьер.</td>\n",
       "      <td>7</td>\n",
       "      <td>23</td>\n",
       "      <td>2014</td>\n",
       "      <td>12</td>\n",
       "      <td>0</td>\n",
       "      <td>52</td>\n",
       "    </tr>\n",
       "    <tr>\n",
       "      <th>3</th>\n",
       "      <td>не надо стесняться</td>\n",
       "      <td>79</td>\n",
       "      <td>\\nа что плохого в онанизме  в конце концов  вы...</td>\n",
       "      <td>[\"Вуди Аллен\", \"Юмор\"]</td>\n",
       "      <td>15</td>\n",
       "      <td>durdom0550</td>\n",
       "      <td>5 лет назад</td>\n",
       "      <td>2014-12-22 23:37:24+03:00</td>\n",
       "      <td>\\nа что плохого в онанизме? в конце концов, вы...</td>\n",
       "      <td>не надо стесняться</td>\n",
       "      <td>7</td>\n",
       "      <td>23</td>\n",
       "      <td>2014</td>\n",
       "      <td>12</td>\n",
       "      <td>0</td>\n",
       "      <td>52</td>\n",
       "    </tr>\n",
       "    <tr>\n",
       "      <th>4</th>\n",
       "      <td>не могу вспомнить название пластинки из детства</td>\n",
       "      <td>4</td>\n",
       "      <td>\\nвсем привет  в детстве была у меня пластинка...</td>\n",
       "      <td>[\"Пластинка\", \"Склероз\", \"Помощь\", \"Старое\", \"...</td>\n",
       "      <td>10</td>\n",
       "      <td>NiiBird</td>\n",
       "      <td>5 лет назад</td>\n",
       "      <td>2014-12-22 23:25:27+03:00</td>\n",
       "      <td>\\nвсем привет, в детстве была у меня пластинка...</td>\n",
       "      <td>Не могу вспомнить название пластинки из детства.</td>\n",
       "      <td>4</td>\n",
       "      <td>23</td>\n",
       "      <td>2014</td>\n",
       "      <td>12</td>\n",
       "      <td>0</td>\n",
       "      <td>52</td>\n",
       "    </tr>\n",
       "  </tbody>\n",
       "</table>\n",
       "</div>"
      ],
      "text/plain": [
       "                                              TITLE  LIKES  \\\n",
       "0                                 хорошо быть бабой    245   \n",
       "1                             рим история циклична       3   \n",
       "2                                  языковой барьер      73   \n",
       "3                                не надо стесняться     79   \n",
       "4  не могу вспомнить название пластинки из детства       4   \n",
       "\n",
       "                                                TEXT  \\\n",
       "0  \\nхорошо быть бабой   загрустила  сфоткала себ...   \n",
       "1  \\nлегионы  легионы \\nопоясали страну\\nматерят ...   \n",
       "2  \\n     семья  по долгу отцовской профессии  по...   \n",
       "3  \\nа что плохого в онанизме  в конце концов  вы...   \n",
       "4  \\nвсем привет  в детстве была у меня пластинка...   \n",
       "\n",
       "                                                TAGS  COMMENTS      NICKNAME  \\\n",
       "0                             [\"Девушки\", \"Счастье\"]        38     Viruso4ek   \n",
       "1               [\"Рим\", \"История\", \"Война\", \"Стихи\"]        12   lokibrother   \n",
       "2                        [\"Язык\", \"Украина\", \"Юмор\"]         3  alekrasnodar   \n",
       "3                             [\"Вуди Аллен\", \"Юмор\"]        15    durdom0550   \n",
       "4  [\"Пластинка\", \"Склероз\", \"Помощь\", \"Старое\", \"...        10       NiiBird   \n",
       "\n",
       "      TIME_GAP                 TIMESTAMP  \\\n",
       "0  5 лет назад 2014-12-22 23:52:56+03:00   \n",
       "1  5 лет назад 2014-12-22 23:49:08+03:00   \n",
       "2  5 лет назад 2014-12-22 23:38:20+03:00   \n",
       "3  5 лет назад 2014-12-22 23:37:24+03:00   \n",
       "4  5 лет назад 2014-12-22 23:25:27+03:00   \n",
       "\n",
       "                                          TEXT_PUNCT  \\\n",
       "0  \\nхорошо быть бабой - загрустила, сфоткала себ...   \n",
       "1  \\nлегионы, легионы \\nопоясали страну\\nматерят ...   \n",
       "2  \\n     семья, по долгу отцовской профессии, по...   \n",
       "3  \\nа что плохого в онанизме? в конце концов, вы...   \n",
       "4  \\nвсем привет, в детстве была у меня пластинка...   \n",
       "\n",
       "                                        TITLE_PUNCT  target  HOUR  YEAR  \\\n",
       "0                                 Хорошо быть бабой       0    23  2014   \n",
       "1                             Рим(история циклична)       6    23  2014   \n",
       "2                                  Языковой барьер.       7    23  2014   \n",
       "3                                не надо стесняться       7    23  2014   \n",
       "4  Не могу вспомнить название пластинки из детства.       4    23  2014   \n",
       "\n",
       "   MONTH  WEEKDAY  WEEK  \n",
       "0     12        0    52  \n",
       "1     12        0    52  \n",
       "2     12        0    52  \n",
       "3     12        0    52  \n",
       "4     12        0    52  "
      ]
     },
     "execution_count": 38,
     "metadata": {},
     "output_type": "execute_result"
    }
   ],
   "source": [
    "df.head()"
   ]
  },
  {
   "cell_type": "code",
   "execution_count": 39,
   "metadata": {
    "ExecuteTime": {
     "end_time": "2021-01-13T00:27:29.543619Z",
     "start_time": "2021-01-13T00:27:29.525304Z"
    }
   },
   "outputs": [],
   "source": [
    "df.drop(columns=[\"TAGS\", \"NICKNAME\", \"TEXT_PUNCT\", \"TITLE_PUNCT\", \"YEAR\", \"WEEK\", \"TIMESTAMP\", \"TIME_GAP\"], inplace=True)"
   ]
  },
  {
   "cell_type": "code",
   "execution_count": 40,
   "metadata": {
    "ExecuteTime": {
     "end_time": "2021-01-13T00:27:29.564540Z",
     "start_time": "2021-01-13T00:27:29.546868Z"
    }
   },
   "outputs": [
    {
     "data": {
      "text/html": [
       "<div>\n",
       "<style scoped>\n",
       "    .dataframe tbody tr th:only-of-type {\n",
       "        vertical-align: middle;\n",
       "    }\n",
       "\n",
       "    .dataframe tbody tr th {\n",
       "        vertical-align: top;\n",
       "    }\n",
       "\n",
       "    .dataframe thead th {\n",
       "        text-align: right;\n",
       "    }\n",
       "</style>\n",
       "<table border=\"1\" class=\"dataframe\">\n",
       "  <thead>\n",
       "    <tr style=\"text-align: right;\">\n",
       "      <th></th>\n",
       "      <th>TITLE</th>\n",
       "      <th>LIKES</th>\n",
       "      <th>TEXT</th>\n",
       "      <th>COMMENTS</th>\n",
       "      <th>target</th>\n",
       "      <th>HOUR</th>\n",
       "      <th>MONTH</th>\n",
       "      <th>WEEKDAY</th>\n",
       "    </tr>\n",
       "  </thead>\n",
       "  <tbody>\n",
       "    <tr>\n",
       "      <th>0</th>\n",
       "      <td>хорошо быть бабой</td>\n",
       "      <td>245</td>\n",
       "      <td>\\nхорошо быть бабой   загрустила  сфоткала себ...</td>\n",
       "      <td>38</td>\n",
       "      <td>0</td>\n",
       "      <td>23</td>\n",
       "      <td>12</td>\n",
       "      <td>0</td>\n",
       "    </tr>\n",
       "    <tr>\n",
       "      <th>1</th>\n",
       "      <td>рим история циклична</td>\n",
       "      <td>3</td>\n",
       "      <td>\\nлегионы  легионы \\nопоясали страну\\nматерят ...</td>\n",
       "      <td>12</td>\n",
       "      <td>6</td>\n",
       "      <td>23</td>\n",
       "      <td>12</td>\n",
       "      <td>0</td>\n",
       "    </tr>\n",
       "    <tr>\n",
       "      <th>2</th>\n",
       "      <td>языковой барьер</td>\n",
       "      <td>73</td>\n",
       "      <td>\\n     семья  по долгу отцовской профессии  по...</td>\n",
       "      <td>3</td>\n",
       "      <td>7</td>\n",
       "      <td>23</td>\n",
       "      <td>12</td>\n",
       "      <td>0</td>\n",
       "    </tr>\n",
       "    <tr>\n",
       "      <th>3</th>\n",
       "      <td>не надо стесняться</td>\n",
       "      <td>79</td>\n",
       "      <td>\\nа что плохого в онанизме  в конце концов  вы...</td>\n",
       "      <td>15</td>\n",
       "      <td>7</td>\n",
       "      <td>23</td>\n",
       "      <td>12</td>\n",
       "      <td>0</td>\n",
       "    </tr>\n",
       "    <tr>\n",
       "      <th>4</th>\n",
       "      <td>не могу вспомнить название пластинки из детства</td>\n",
       "      <td>4</td>\n",
       "      <td>\\nвсем привет  в детстве была у меня пластинка...</td>\n",
       "      <td>10</td>\n",
       "      <td>4</td>\n",
       "      <td>23</td>\n",
       "      <td>12</td>\n",
       "      <td>0</td>\n",
       "    </tr>\n",
       "  </tbody>\n",
       "</table>\n",
       "</div>"
      ],
      "text/plain": [
       "                                              TITLE  LIKES  \\\n",
       "0                                 хорошо быть бабой    245   \n",
       "1                             рим история циклична       3   \n",
       "2                                  языковой барьер      73   \n",
       "3                                не надо стесняться     79   \n",
       "4  не могу вспомнить название пластинки из детства       4   \n",
       "\n",
       "                                                TEXT  COMMENTS  target  HOUR  \\\n",
       "0  \\nхорошо быть бабой   загрустила  сфоткала себ...        38       0    23   \n",
       "1  \\nлегионы  легионы \\nопоясали страну\\nматерят ...        12       6    23   \n",
       "2  \\n     семья  по долгу отцовской профессии  по...         3       7    23   \n",
       "3  \\nа что плохого в онанизме  в конце концов  вы...        15       7    23   \n",
       "4  \\nвсем привет  в детстве была у меня пластинка...        10       4    23   \n",
       "\n",
       "   MONTH  WEEKDAY  \n",
       "0     12        0  \n",
       "1     12        0  \n",
       "2     12        0  \n",
       "3     12        0  \n",
       "4     12        0  "
      ]
     },
     "execution_count": 40,
     "metadata": {},
     "output_type": "execute_result"
    }
   ],
   "source": [
    "df.head()"
   ]
  },
  {
   "cell_type": "code",
   "execution_count": 41,
   "metadata": {
    "ExecuteTime": {
     "end_time": "2021-01-13T00:27:29.578757Z",
     "start_time": "2021-01-13T00:27:29.567838Z"
    }
   },
   "outputs": [],
   "source": [
    "def make_harmonic_features(value, period=24):\n",
    "    value *= 2 * np.pi / period\n",
    "    return np.cos(value), np.sin(value)"
   ]
  },
  {
   "cell_type": "code",
   "execution_count": 42,
   "metadata": {
    "ExecuteTime": {
     "end_time": "2021-01-13T00:27:29.590445Z",
     "start_time": "2021-01-13T00:27:29.583441Z"
    }
   },
   "outputs": [],
   "source": [
    "def make_cos_list(list_, period=24):\n",
    "    def make_cos(value, period=period):\n",
    "        return np.cos(value*2*np.pi/period)\n",
    "    return [make_cos(x) for x in list_]"
   ]
  },
  {
   "cell_type": "code",
   "execution_count": 43,
   "metadata": {
    "ExecuteTime": {
     "end_time": "2021-01-13T00:27:29.601435Z",
     "start_time": "2021-01-13T00:27:29.595285Z"
    }
   },
   "outputs": [],
   "source": [
    "def make_sin_list(list_, period=24):\n",
    "    def make_sin(value, period=period):\n",
    "        return np.sin(value*2*np.pi/period)\n",
    "    return [make_sin(x) for x in list_]"
   ]
  },
  {
   "cell_type": "code",
   "execution_count": 44,
   "metadata": {
    "ExecuteTime": {
     "end_time": "2021-01-13T00:27:29.615557Z",
     "start_time": "2021-01-13T00:27:29.604773Z"
    }
   },
   "outputs": [
    {
     "data": {
      "text/plain": [
       "([0.25881904510252074], [0.9659258262890683])"
      ]
     },
     "execution_count": 44,
     "metadata": {},
     "output_type": "execute_result"
    }
   ],
   "source": [
    "make_sin_list([1]), make_cos_list([1])"
   ]
  },
  {
   "cell_type": "code",
   "execution_count": 45,
   "metadata": {
    "ExecuteTime": {
     "end_time": "2021-01-13T00:27:30.328388Z",
     "start_time": "2021-01-13T00:27:29.618982Z"
    }
   },
   "outputs": [],
   "source": [
    "df['sin_hour'] = make_sin_list(df['HOUR'])\n",
    "df['cos_hour'] = make_cos_list(df['HOUR'])\n",
    "\n",
    "df['cos_month'] = make_cos_list(df['MONTH'], 12)\n",
    "df['sin_month'] = make_sin_list(df[\"MONTH\"], 12)\n",
    "\n",
    "df['cos_weekday'] = make_cos_list(df['WEEKDAY'], 7) \n",
    "df['sin_weekday'] = make_sin_list(df['WEEKDAY'], 7)\n",
    "\n",
    "df.drop(columns=['HOUR', 'MONTH', 'WEEKDAY'], inplace=True)"
   ]
  },
  {
   "cell_type": "code",
   "execution_count": 46,
   "metadata": {
    "ExecuteTime": {
     "end_time": "2021-01-13T00:27:30.380397Z",
     "start_time": "2021-01-13T00:27:30.330959Z"
    }
   },
   "outputs": [],
   "source": [
    "df.drop(index = df.loc[~(df['TITLE'].str.len() > 0)].index, inplace=True)"
   ]
  },
  {
   "cell_type": "code",
   "execution_count": 47,
   "metadata": {
    "ExecuteTime": {
     "end_time": "2021-01-13T00:27:30.454096Z",
     "start_time": "2021-01-13T00:27:30.383753Z"
    }
   },
   "outputs": [
    {
     "data": {
      "text/html": [
       "<div>\n",
       "<style scoped>\n",
       "    .dataframe tbody tr th:only-of-type {\n",
       "        vertical-align: middle;\n",
       "    }\n",
       "\n",
       "    .dataframe tbody tr th {\n",
       "        vertical-align: top;\n",
       "    }\n",
       "\n",
       "    .dataframe thead th {\n",
       "        text-align: right;\n",
       "    }\n",
       "</style>\n",
       "<table border=\"1\" class=\"dataframe\">\n",
       "  <thead>\n",
       "    <tr style=\"text-align: right;\">\n",
       "      <th></th>\n",
       "      <th>TITLE</th>\n",
       "      <th>LIKES</th>\n",
       "      <th>TEXT</th>\n",
       "      <th>COMMENTS</th>\n",
       "      <th>target</th>\n",
       "      <th>sin_hour</th>\n",
       "      <th>cos_hour</th>\n",
       "      <th>cos_month</th>\n",
       "      <th>sin_month</th>\n",
       "      <th>cos_weekday</th>\n",
       "      <th>sin_weekday</th>\n",
       "    </tr>\n",
       "  </thead>\n",
       "  <tbody>\n",
       "    <tr>\n",
       "      <th>0</th>\n",
       "      <td>хорошо быть бабой</td>\n",
       "      <td>245</td>\n",
       "      <td>\\nхорошо быть бабой   загрустила  сфоткала себ...</td>\n",
       "      <td>38</td>\n",
       "      <td>0</td>\n",
       "      <td>-0.258819</td>\n",
       "      <td>0.965926</td>\n",
       "      <td>1.0</td>\n",
       "      <td>-2.449294e-16</td>\n",
       "      <td>1.000000</td>\n",
       "      <td>0.000000</td>\n",
       "    </tr>\n",
       "    <tr>\n",
       "      <th>1</th>\n",
       "      <td>рим история циклична</td>\n",
       "      <td>3</td>\n",
       "      <td>\\nлегионы  легионы \\nопоясали страну\\nматерят ...</td>\n",
       "      <td>12</td>\n",
       "      <td>6</td>\n",
       "      <td>-0.258819</td>\n",
       "      <td>0.965926</td>\n",
       "      <td>1.0</td>\n",
       "      <td>-2.449294e-16</td>\n",
       "      <td>1.000000</td>\n",
       "      <td>0.000000</td>\n",
       "    </tr>\n",
       "    <tr>\n",
       "      <th>2</th>\n",
       "      <td>языковой барьер</td>\n",
       "      <td>73</td>\n",
       "      <td>\\n     семья  по долгу отцовской профессии  по...</td>\n",
       "      <td>3</td>\n",
       "      <td>7</td>\n",
       "      <td>-0.258819</td>\n",
       "      <td>0.965926</td>\n",
       "      <td>1.0</td>\n",
       "      <td>-2.449294e-16</td>\n",
       "      <td>1.000000</td>\n",
       "      <td>0.000000</td>\n",
       "    </tr>\n",
       "    <tr>\n",
       "      <th>3</th>\n",
       "      <td>не надо стесняться</td>\n",
       "      <td>79</td>\n",
       "      <td>\\nа что плохого в онанизме  в конце концов  вы...</td>\n",
       "      <td>15</td>\n",
       "      <td>7</td>\n",
       "      <td>-0.258819</td>\n",
       "      <td>0.965926</td>\n",
       "      <td>1.0</td>\n",
       "      <td>-2.449294e-16</td>\n",
       "      <td>1.000000</td>\n",
       "      <td>0.000000</td>\n",
       "    </tr>\n",
       "    <tr>\n",
       "      <th>4</th>\n",
       "      <td>не могу вспомнить название пластинки из детства</td>\n",
       "      <td>4</td>\n",
       "      <td>\\nвсем привет  в детстве была у меня пластинка...</td>\n",
       "      <td>10</td>\n",
       "      <td>4</td>\n",
       "      <td>-0.258819</td>\n",
       "      <td>0.965926</td>\n",
       "      <td>1.0</td>\n",
       "      <td>-2.449294e-16</td>\n",
       "      <td>1.000000</td>\n",
       "      <td>0.000000</td>\n",
       "    </tr>\n",
       "    <tr>\n",
       "      <th>...</th>\n",
       "      <td>...</td>\n",
       "      <td>...</td>\n",
       "      <td>...</td>\n",
       "      <td>...</td>\n",
       "      <td>...</td>\n",
       "      <td>...</td>\n",
       "      <td>...</td>\n",
       "      <td>...</td>\n",
       "      <td>...</td>\n",
       "      <td>...</td>\n",
       "      <td>...</td>\n",
       "    </tr>\n",
       "    <tr>\n",
       "      <th>54595</th>\n",
       "      <td>вдруг откуда не возьмись</td>\n",
       "      <td>-70</td>\n",
       "      <td>\\nеще совсем недавно все  политологи  и  экспе...</td>\n",
       "      <td>7</td>\n",
       "      <td>3</td>\n",
       "      <td>0.258819</td>\n",
       "      <td>0.965926</td>\n",
       "      <td>-1.0</td>\n",
       "      <td>1.224647e-16</td>\n",
       "      <td>-0.900969</td>\n",
       "      <td>-0.433884</td>\n",
       "    </tr>\n",
       "    <tr>\n",
       "      <th>54596</th>\n",
       "      <td>совет будущим студентам</td>\n",
       "      <td>1771</td>\n",
       "      <td>\\nсамое главное в общежитии   сохранять хороши...</td>\n",
       "      <td>72</td>\n",
       "      <td>0</td>\n",
       "      <td>0.000000</td>\n",
       "      <td>1.000000</td>\n",
       "      <td>-1.0</td>\n",
       "      <td>1.224647e-16</td>\n",
       "      <td>-0.900969</td>\n",
       "      <td>-0.433884</td>\n",
       "    </tr>\n",
       "    <tr>\n",
       "      <th>54597</th>\n",
       "      <td>пара анекдотов</td>\n",
       "      <td>-12</td>\n",
       "      <td>\\nк психоaнaлитику приходит нa прием женщинa  ...</td>\n",
       "      <td>1</td>\n",
       "      <td>7</td>\n",
       "      <td>0.000000</td>\n",
       "      <td>1.000000</td>\n",
       "      <td>-1.0</td>\n",
       "      <td>1.224647e-16</td>\n",
       "      <td>-0.900969</td>\n",
       "      <td>-0.433884</td>\n",
       "    </tr>\n",
       "    <tr>\n",
       "      <th>54598</th>\n",
       "      <td>правдивая история о том  как лена работала в п...</td>\n",
       "      <td>512</td>\n",
       "      <td>\\nя с большим наслаждением читала рассказы пик...</td>\n",
       "      <td>80</td>\n",
       "      <td>1</td>\n",
       "      <td>0.000000</td>\n",
       "      <td>1.000000</td>\n",
       "      <td>-1.0</td>\n",
       "      <td>1.224647e-16</td>\n",
       "      <td>-0.900969</td>\n",
       "      <td>-0.433884</td>\n",
       "    </tr>\n",
       "    <tr>\n",
       "      <th>54599</th>\n",
       "      <td>за час до защиты</td>\n",
       "      <td>606</td>\n",
       "      <td>\\nперед защитой диплома состоялся такой диалог...</td>\n",
       "      <td>47</td>\n",
       "      <td>7</td>\n",
       "      <td>0.000000</td>\n",
       "      <td>1.000000</td>\n",
       "      <td>-1.0</td>\n",
       "      <td>1.224647e-16</td>\n",
       "      <td>-0.900969</td>\n",
       "      <td>-0.433884</td>\n",
       "    </tr>\n",
       "  </tbody>\n",
       "</table>\n",
       "<p>51410 rows × 11 columns</p>\n",
       "</div>"
      ],
      "text/plain": [
       "                                                   TITLE  LIKES  \\\n",
       "0                                      хорошо быть бабой    245   \n",
       "1                                  рим история циклична       3   \n",
       "2                                       языковой барьер      73   \n",
       "3                                     не надо стесняться     79   \n",
       "4       не могу вспомнить название пластинки из детства       4   \n",
       "...                                                  ...    ...   \n",
       "54595                          вдруг откуда не возьмись     -70   \n",
       "54596                            совет будущим студентам   1771   \n",
       "54597                                     пара анекдотов    -12   \n",
       "54598  правдивая история о том  как лена работала в п...    512   \n",
       "54599                                   за час до защиты    606   \n",
       "\n",
       "                                                    TEXT  COMMENTS  target  \\\n",
       "0      \\nхорошо быть бабой   загрустила  сфоткала себ...        38       0   \n",
       "1      \\nлегионы  легионы \\nопоясали страну\\nматерят ...        12       6   \n",
       "2      \\n     семья  по долгу отцовской профессии  по...         3       7   \n",
       "3      \\nа что плохого в онанизме  в конце концов  вы...        15       7   \n",
       "4      \\nвсем привет  в детстве была у меня пластинка...        10       4   \n",
       "...                                                  ...       ...     ...   \n",
       "54595  \\nеще совсем недавно все  политологи  и  экспе...         7       3   \n",
       "54596  \\nсамое главное в общежитии   сохранять хороши...        72       0   \n",
       "54597  \\nк психоaнaлитику приходит нa прием женщинa  ...         1       7   \n",
       "54598  \\nя с большим наслаждением читала рассказы пик...        80       1   \n",
       "54599  \\nперед защитой диплома состоялся такой диалог...        47       7   \n",
       "\n",
       "       sin_hour  cos_hour  cos_month     sin_month  cos_weekday  sin_weekday  \n",
       "0     -0.258819  0.965926        1.0 -2.449294e-16     1.000000     0.000000  \n",
       "1     -0.258819  0.965926        1.0 -2.449294e-16     1.000000     0.000000  \n",
       "2     -0.258819  0.965926        1.0 -2.449294e-16     1.000000     0.000000  \n",
       "3     -0.258819  0.965926        1.0 -2.449294e-16     1.000000     0.000000  \n",
       "4     -0.258819  0.965926        1.0 -2.449294e-16     1.000000     0.000000  \n",
       "...         ...       ...        ...           ...          ...          ...  \n",
       "54595  0.258819  0.965926       -1.0  1.224647e-16    -0.900969    -0.433884  \n",
       "54596  0.000000  1.000000       -1.0  1.224647e-16    -0.900969    -0.433884  \n",
       "54597  0.000000  1.000000       -1.0  1.224647e-16    -0.900969    -0.433884  \n",
       "54598  0.000000  1.000000       -1.0  1.224647e-16    -0.900969    -0.433884  \n",
       "54599  0.000000  1.000000       -1.0  1.224647e-16    -0.900969    -0.433884  \n",
       "\n",
       "[51410 rows x 11 columns]"
      ]
     },
     "execution_count": 47,
     "metadata": {},
     "output_type": "execute_result"
    }
   ],
   "source": [
    "df"
   ]
  },
  {
   "cell_type": "code",
   "execution_count": 48,
   "metadata": {
    "ExecuteTime": {
     "end_time": "2021-01-13T00:27:30.467643Z",
     "start_time": "2021-01-13T00:27:30.459373Z"
    }
   },
   "outputs": [
    {
     "name": "stderr",
     "output_type": "stream",
     "text": [
      "[nltk_data] Downloading package stopwords to\n",
      "[nltk_data]     /home/memesrized/nltk_data...\n",
      "[nltk_data]   Package stopwords is already up-to-date!\n"
     ]
    }
   ],
   "source": [
    "import nltk\n",
    "nltk.download('stopwords')\n",
    "from nltk.corpus import stopwords\n",
    "sw = stopwords.words(\"russian\")"
   ]
  },
  {
   "cell_type": "code",
   "execution_count": 49,
   "metadata": {
    "ExecuteTime": {
     "end_time": "2021-01-13T00:27:30.480303Z",
     "start_time": "2021-01-13T00:27:30.470504Z"
    }
   },
   "outputs": [],
   "source": [
    "from compress_fasttext.models import CompressedFastTextKeyedVectors"
   ]
  },
  {
   "cell_type": "code",
   "execution_count": 50,
   "metadata": {
    "ExecuteTime": {
     "end_time": "2021-01-13T00:27:32.869365Z",
     "start_time": "2021-01-13T00:27:30.483057Z"
    }
   },
   "outputs": [],
   "source": [
    "embs = \"../embeddings/pruned_ft_500K.bin\"\n",
    "embeddings = CompressedFastTextKeyedVectors.load(str(embs))"
   ]
  },
  {
   "cell_type": "code",
   "execution_count": 51,
   "metadata": {
    "ExecuteTime": {
     "end_time": "2021-01-13T00:27:32.877439Z",
     "start_time": "2021-01-13T00:27:32.871693Z"
    }
   },
   "outputs": [],
   "source": [
    "def embed(tokens, default_size=100):\n",
    "    if not tokens:\n",
    "        return np.zeros(default_size)\n",
    "    embs = [embeddings[_normalize_string(x)] for x in tokens]\n",
    "    return sum(embs) / len(tokens)\n",
    "\n",
    "def _normalize_string(text):\n",
    "    return text.replace('ё', 'е')\n",
    "\n",
    "def remove_stop_words(words_list):\n",
    "    return [x for x in words_list if x not in sw]"
   ]
  },
  {
   "cell_type": "code",
   "execution_count": 52,
   "metadata": {
    "ExecuteTime": {
     "end_time": "2021-01-13T00:27:32.891996Z",
     "start_time": "2021-01-13T00:27:32.880708Z"
    }
   },
   "outputs": [],
   "source": [
    "def process_record(record):\n",
    "    return embed(remove_stop_words(record.split()))"
   ]
  },
  {
   "cell_type": "code",
   "execution_count": 53,
   "metadata": {
    "ExecuteTime": {
     "end_time": "2021-01-13T00:27:40.306396Z",
     "start_time": "2021-01-13T00:27:32.895705Z"
    }
   },
   "outputs": [],
   "source": [
    "df['emb_title'] = df['TITLE'].map(process_record)"
   ]
  },
  {
   "cell_type": "code",
   "execution_count": 54,
   "metadata": {
    "ExecuteTime": {
     "end_time": "2021-01-13T00:31:23.083172Z",
     "start_time": "2021-01-13T00:27:40.309571Z"
    }
   },
   "outputs": [],
   "source": [
    "df['emb_text'] = df['TEXT'].map(str).map(process_record)"
   ]
  },
  {
   "cell_type": "code",
   "execution_count": 55,
   "metadata": {
    "ExecuteTime": {
     "end_time": "2021-01-13T00:31:23.105980Z",
     "start_time": "2021-01-13T00:31:23.084600Z"
    }
   },
   "outputs": [],
   "source": [
    "df.drop(columns=['TITLE', 'TEXT'], inplace=True)"
   ]
  },
  {
   "cell_type": "code",
   "execution_count": 56,
   "metadata": {
    "ExecuteTime": {
     "end_time": "2021-01-13T00:31:23.159191Z",
     "start_time": "2021-01-13T00:31:23.107643Z"
    }
   },
   "outputs": [
    {
     "data": {
      "text/html": [
       "<div>\n",
       "<style scoped>\n",
       "    .dataframe tbody tr th:only-of-type {\n",
       "        vertical-align: middle;\n",
       "    }\n",
       "\n",
       "    .dataframe tbody tr th {\n",
       "        vertical-align: top;\n",
       "    }\n",
       "\n",
       "    .dataframe thead th {\n",
       "        text-align: right;\n",
       "    }\n",
       "</style>\n",
       "<table border=\"1\" class=\"dataframe\">\n",
       "  <thead>\n",
       "    <tr style=\"text-align: right;\">\n",
       "      <th></th>\n",
       "      <th>LIKES</th>\n",
       "      <th>COMMENTS</th>\n",
       "      <th>target</th>\n",
       "      <th>sin_hour</th>\n",
       "      <th>cos_hour</th>\n",
       "      <th>cos_month</th>\n",
       "      <th>sin_month</th>\n",
       "      <th>cos_weekday</th>\n",
       "      <th>sin_weekday</th>\n",
       "      <th>emb_title</th>\n",
       "      <th>emb_text</th>\n",
       "    </tr>\n",
       "  </thead>\n",
       "  <tbody>\n",
       "    <tr>\n",
       "      <th>0</th>\n",
       "      <td>245</td>\n",
       "      <td>38</td>\n",
       "      <td>0</td>\n",
       "      <td>-0.258819</td>\n",
       "      <td>0.965926</td>\n",
       "      <td>1.0</td>\n",
       "      <td>-2.449294e-16</td>\n",
       "      <td>1.0</td>\n",
       "      <td>0.0</td>\n",
       "      <td>[0.7117634392581887, 0.567797237206484, -0.508...</td>\n",
       "      <td>[0.148086874332409, 0.3802853105854503, -0.512...</td>\n",
       "    </tr>\n",
       "    <tr>\n",
       "      <th>1</th>\n",
       "      <td>3</td>\n",
       "      <td>12</td>\n",
       "      <td>6</td>\n",
       "      <td>-0.258819</td>\n",
       "      <td>0.965926</td>\n",
       "      <td>1.0</td>\n",
       "      <td>-2.449294e-16</td>\n",
       "      <td>1.0</td>\n",
       "      <td>0.0</td>\n",
       "      <td>[0.4857122787731308, 0.303521774739317, -0.641...</td>\n",
       "      <td>[0.0951560846172552, 0.07236642255955679, -0.2...</td>\n",
       "    </tr>\n",
       "    <tr>\n",
       "      <th>2</th>\n",
       "      <td>73</td>\n",
       "      <td>3</td>\n",
       "      <td>7</td>\n",
       "      <td>-0.258819</td>\n",
       "      <td>0.965926</td>\n",
       "      <td>1.0</td>\n",
       "      <td>-2.449294e-16</td>\n",
       "      <td>1.0</td>\n",
       "      <td>0.0</td>\n",
       "      <td>[-0.12102494323613686, -0.025923628939075863, ...</td>\n",
       "      <td>[0.15600298802570453, 0.11917518017961133, -0....</td>\n",
       "    </tr>\n",
       "    <tr>\n",
       "      <th>3</th>\n",
       "      <td>79</td>\n",
       "      <td>15</td>\n",
       "      <td>7</td>\n",
       "      <td>-0.258819</td>\n",
       "      <td>0.965926</td>\n",
       "      <td>1.0</td>\n",
       "      <td>-2.449294e-16</td>\n",
       "      <td>1.0</td>\n",
       "      <td>0.0</td>\n",
       "      <td>[0.14427872108140952, 0.6238722306915692, -0.2...</td>\n",
       "      <td>[0.2422986810867321, 0.06495182735686247, -0.3...</td>\n",
       "    </tr>\n",
       "    <tr>\n",
       "      <th>4</th>\n",
       "      <td>4</td>\n",
       "      <td>10</td>\n",
       "      <td>4</td>\n",
       "      <td>-0.258819</td>\n",
       "      <td>0.965926</td>\n",
       "      <td>1.0</td>\n",
       "      <td>-2.449294e-16</td>\n",
       "      <td>1.0</td>\n",
       "      <td>0.0</td>\n",
       "      <td>[0.2623649594252681, 0.3036175033559366, -0.25...</td>\n",
       "      <td>[0.09665790585936324, 0.21364064959749965, -0....</td>\n",
       "    </tr>\n",
       "  </tbody>\n",
       "</table>\n",
       "</div>"
      ],
      "text/plain": [
       "   LIKES  COMMENTS  target  sin_hour  cos_hour  cos_month     sin_month  \\\n",
       "0    245        38       0 -0.258819  0.965926        1.0 -2.449294e-16   \n",
       "1      3        12       6 -0.258819  0.965926        1.0 -2.449294e-16   \n",
       "2     73         3       7 -0.258819  0.965926        1.0 -2.449294e-16   \n",
       "3     79        15       7 -0.258819  0.965926        1.0 -2.449294e-16   \n",
       "4      4        10       4 -0.258819  0.965926        1.0 -2.449294e-16   \n",
       "\n",
       "   cos_weekday  sin_weekday  \\\n",
       "0          1.0          0.0   \n",
       "1          1.0          0.0   \n",
       "2          1.0          0.0   \n",
       "3          1.0          0.0   \n",
       "4          1.0          0.0   \n",
       "\n",
       "                                           emb_title  \\\n",
       "0  [0.7117634392581887, 0.567797237206484, -0.508...   \n",
       "1  [0.4857122787731308, 0.303521774739317, -0.641...   \n",
       "2  [-0.12102494323613686, -0.025923628939075863, ...   \n",
       "3  [0.14427872108140952, 0.6238722306915692, -0.2...   \n",
       "4  [0.2623649594252681, 0.3036175033559366, -0.25...   \n",
       "\n",
       "                                            emb_text  \n",
       "0  [0.148086874332409, 0.3802853105854503, -0.512...  \n",
       "1  [0.0951560846172552, 0.07236642255955679, -0.2...  \n",
       "2  [0.15600298802570453, 0.11917518017961133, -0....  \n",
       "3  [0.2422986810867321, 0.06495182735686247, -0.3...  \n",
       "4  [0.09665790585936324, 0.21364064959749965, -0....  "
      ]
     },
     "execution_count": 56,
     "metadata": {},
     "output_type": "execute_result"
    }
   ],
   "source": [
    "df.head()"
   ]
  },
  {
   "cell_type": "code",
   "execution_count": 57,
   "metadata": {
    "ExecuteTime": {
     "end_time": "2021-01-13T00:31:32.387462Z",
     "start_time": "2021-01-13T00:31:23.165064Z"
    }
   },
   "outputs": [],
   "source": [
    "df['emb_title'] = df['emb_title'].map(lambda x: json.dumps([float(y) for y in x]))\n",
    "df['emb_text'] = df['emb_text'].map(lambda x: json.dumps([float(y) for y in x]))"
   ]
  },
  {
   "cell_type": "code",
   "execution_count": 58,
   "metadata": {
    "ExecuteTime": {
     "end_time": "2021-01-13T00:31:37.443998Z",
     "start_time": "2021-01-13T00:31:32.390737Z"
    }
   },
   "outputs": [],
   "source": [
    "df.to_csv(\"../data/final_serialized.csv\")"
   ]
  },
  {
   "cell_type": "code",
   "execution_count": 59,
   "metadata": {
    "ExecuteTime": {
     "end_time": "2021-01-13T00:31:37.516759Z",
     "start_time": "2021-01-13T00:31:37.491528Z"
    }
   },
   "outputs": [
    {
     "data": {
      "text/plain": [
       "LIKES          0\n",
       "COMMENTS       0\n",
       "target         0\n",
       "sin_hour       0\n",
       "cos_hour       0\n",
       "cos_month      0\n",
       "sin_month      0\n",
       "cos_weekday    0\n",
       "sin_weekday    0\n",
       "emb_title      0\n",
       "emb_text       0\n",
       "dtype: int64"
      ]
     },
     "execution_count": 59,
     "metadata": {},
     "output_type": "execute_result"
    }
   ],
   "source": [
    "df.isnull().sum()"
   ]
  },
  {
   "cell_type": "code",
   "execution_count": 60,
   "metadata": {
    "ExecuteTime": {
     "end_time": "2021-01-13T00:31:43.519968Z",
     "start_time": "2021-01-13T00:31:37.519013Z"
    }
   },
   "outputs": [],
   "source": [
    "emb_text = pd.DataFrame(df['emb_text'].map(json.loads).to_list(),\n",
    "                        columns=[f\"emb_text_{i}\" for i in range(100)])\n",
    "\n",
    "emb_title = pd.DataFrame(np.array(df['emb_title'].map(json.loads).to_list()),\n",
    "                         columns=[f\"emb_title_{i}\" for i in range(100)])"
   ]
  },
  {
   "cell_type": "code",
   "execution_count": 61,
   "metadata": {
    "ExecuteTime": {
     "end_time": "2021-01-13T00:31:43.587132Z",
     "start_time": "2021-01-13T00:31:43.521569Z"
    }
   },
   "outputs": [],
   "source": [
    "df_embedded = pd.concat([df.drop(columns=['emb_title', 'emb_text']).reset_index(drop=True),\n",
    "                         emb_text, emb_title], axis=1)"
   ]
  },
  {
   "cell_type": "code",
   "execution_count": 62,
   "metadata": {
    "ExecuteTime": {
     "end_time": "2021-01-13T00:31:43.617405Z",
     "start_time": "2021-01-13T00:31:43.588843Z"
    }
   },
   "outputs": [
    {
     "data": {
      "text/html": [
       "<div>\n",
       "<style scoped>\n",
       "    .dataframe tbody tr th:only-of-type {\n",
       "        vertical-align: middle;\n",
       "    }\n",
       "\n",
       "    .dataframe tbody tr th {\n",
       "        vertical-align: top;\n",
       "    }\n",
       "\n",
       "    .dataframe thead th {\n",
       "        text-align: right;\n",
       "    }\n",
       "</style>\n",
       "<table border=\"1\" class=\"dataframe\">\n",
       "  <thead>\n",
       "    <tr style=\"text-align: right;\">\n",
       "      <th></th>\n",
       "      <th>LIKES</th>\n",
       "      <th>COMMENTS</th>\n",
       "      <th>target</th>\n",
       "      <th>sin_hour</th>\n",
       "      <th>cos_hour</th>\n",
       "      <th>cos_month</th>\n",
       "      <th>sin_month</th>\n",
       "      <th>cos_weekday</th>\n",
       "      <th>sin_weekday</th>\n",
       "      <th>emb_text_0</th>\n",
       "      <th>...</th>\n",
       "      <th>emb_title_90</th>\n",
       "      <th>emb_title_91</th>\n",
       "      <th>emb_title_92</th>\n",
       "      <th>emb_title_93</th>\n",
       "      <th>emb_title_94</th>\n",
       "      <th>emb_title_95</th>\n",
       "      <th>emb_title_96</th>\n",
       "      <th>emb_title_97</th>\n",
       "      <th>emb_title_98</th>\n",
       "      <th>emb_title_99</th>\n",
       "    </tr>\n",
       "  </thead>\n",
       "  <tbody>\n",
       "    <tr>\n",
       "      <th>0</th>\n",
       "      <td>245</td>\n",
       "      <td>38</td>\n",
       "      <td>0</td>\n",
       "      <td>-0.258819</td>\n",
       "      <td>0.965926</td>\n",
       "      <td>1.0</td>\n",
       "      <td>-2.449294e-16</td>\n",
       "      <td>1.0</td>\n",
       "      <td>0.0</td>\n",
       "      <td>0.148087</td>\n",
       "      <td>...</td>\n",
       "      <td>0.531877</td>\n",
       "      <td>-0.295999</td>\n",
       "      <td>0.432405</td>\n",
       "      <td>-0.171743</td>\n",
       "      <td>-0.376144</td>\n",
       "      <td>-0.080770</td>\n",
       "      <td>0.780307</td>\n",
       "      <td>-0.393801</td>\n",
       "      <td>0.284733</td>\n",
       "      <td>-0.529976</td>\n",
       "    </tr>\n",
       "    <tr>\n",
       "      <th>1</th>\n",
       "      <td>3</td>\n",
       "      <td>12</td>\n",
       "      <td>6</td>\n",
       "      <td>-0.258819</td>\n",
       "      <td>0.965926</td>\n",
       "      <td>1.0</td>\n",
       "      <td>-2.449294e-16</td>\n",
       "      <td>1.0</td>\n",
       "      <td>0.0</td>\n",
       "      <td>0.095156</td>\n",
       "      <td>...</td>\n",
       "      <td>0.207497</td>\n",
       "      <td>-0.087502</td>\n",
       "      <td>0.449081</td>\n",
       "      <td>0.798268</td>\n",
       "      <td>-0.418835</td>\n",
       "      <td>-0.091712</td>\n",
       "      <td>0.177536</td>\n",
       "      <td>-0.081389</td>\n",
       "      <td>-0.373750</td>\n",
       "      <td>-0.300206</td>\n",
       "    </tr>\n",
       "    <tr>\n",
       "      <th>2</th>\n",
       "      <td>73</td>\n",
       "      <td>3</td>\n",
       "      <td>7</td>\n",
       "      <td>-0.258819</td>\n",
       "      <td>0.965926</td>\n",
       "      <td>1.0</td>\n",
       "      <td>-2.449294e-16</td>\n",
       "      <td>1.0</td>\n",
       "      <td>0.0</td>\n",
       "      <td>0.156003</td>\n",
       "      <td>...</td>\n",
       "      <td>0.600254</td>\n",
       "      <td>-0.218309</td>\n",
       "      <td>0.488272</td>\n",
       "      <td>0.004122</td>\n",
       "      <td>-0.580864</td>\n",
       "      <td>-0.647737</td>\n",
       "      <td>-0.421757</td>\n",
       "      <td>0.404062</td>\n",
       "      <td>-0.599431</td>\n",
       "      <td>-0.755318</td>\n",
       "    </tr>\n",
       "    <tr>\n",
       "      <th>3</th>\n",
       "      <td>79</td>\n",
       "      <td>15</td>\n",
       "      <td>7</td>\n",
       "      <td>-0.258819</td>\n",
       "      <td>0.965926</td>\n",
       "      <td>1.0</td>\n",
       "      <td>-2.449294e-16</td>\n",
       "      <td>1.0</td>\n",
       "      <td>0.0</td>\n",
       "      <td>0.242299</td>\n",
       "      <td>...</td>\n",
       "      <td>0.178026</td>\n",
       "      <td>0.402201</td>\n",
       "      <td>0.071325</td>\n",
       "      <td>-0.381747</td>\n",
       "      <td>-0.243778</td>\n",
       "      <td>-0.708453</td>\n",
       "      <td>0.065975</td>\n",
       "      <td>-0.481236</td>\n",
       "      <td>-0.349474</td>\n",
       "      <td>-0.470402</td>\n",
       "    </tr>\n",
       "    <tr>\n",
       "      <th>4</th>\n",
       "      <td>4</td>\n",
       "      <td>10</td>\n",
       "      <td>4</td>\n",
       "      <td>-0.258819</td>\n",
       "      <td>0.965926</td>\n",
       "      <td>1.0</td>\n",
       "      <td>-2.449294e-16</td>\n",
       "      <td>1.0</td>\n",
       "      <td>0.0</td>\n",
       "      <td>0.096658</td>\n",
       "      <td>...</td>\n",
       "      <td>0.045307</td>\n",
       "      <td>0.060338</td>\n",
       "      <td>0.306918</td>\n",
       "      <td>-0.052441</td>\n",
       "      <td>0.083353</td>\n",
       "      <td>-0.437869</td>\n",
       "      <td>0.048654</td>\n",
       "      <td>-0.002049</td>\n",
       "      <td>-0.534763</td>\n",
       "      <td>-0.219268</td>\n",
       "    </tr>\n",
       "  </tbody>\n",
       "</table>\n",
       "<p>5 rows × 209 columns</p>\n",
       "</div>"
      ],
      "text/plain": [
       "   LIKES  COMMENTS  target  sin_hour  cos_hour  cos_month     sin_month  \\\n",
       "0    245        38       0 -0.258819  0.965926        1.0 -2.449294e-16   \n",
       "1      3        12       6 -0.258819  0.965926        1.0 -2.449294e-16   \n",
       "2     73         3       7 -0.258819  0.965926        1.0 -2.449294e-16   \n",
       "3     79        15       7 -0.258819  0.965926        1.0 -2.449294e-16   \n",
       "4      4        10       4 -0.258819  0.965926        1.0 -2.449294e-16   \n",
       "\n",
       "   cos_weekday  sin_weekday  emb_text_0  ...  emb_title_90  emb_title_91  \\\n",
       "0          1.0          0.0    0.148087  ...      0.531877     -0.295999   \n",
       "1          1.0          0.0    0.095156  ...      0.207497     -0.087502   \n",
       "2          1.0          0.0    0.156003  ...      0.600254     -0.218309   \n",
       "3          1.0          0.0    0.242299  ...      0.178026      0.402201   \n",
       "4          1.0          0.0    0.096658  ...      0.045307      0.060338   \n",
       "\n",
       "   emb_title_92  emb_title_93  emb_title_94  emb_title_95  emb_title_96  \\\n",
       "0      0.432405     -0.171743     -0.376144     -0.080770      0.780307   \n",
       "1      0.449081      0.798268     -0.418835     -0.091712      0.177536   \n",
       "2      0.488272      0.004122     -0.580864     -0.647737     -0.421757   \n",
       "3      0.071325     -0.381747     -0.243778     -0.708453      0.065975   \n",
       "4      0.306918     -0.052441      0.083353     -0.437869      0.048654   \n",
       "\n",
       "   emb_title_97  emb_title_98  emb_title_99  \n",
       "0     -0.393801      0.284733     -0.529976  \n",
       "1     -0.081389     -0.373750     -0.300206  \n",
       "2      0.404062     -0.599431     -0.755318  \n",
       "3     -0.481236     -0.349474     -0.470402  \n",
       "4     -0.002049     -0.534763     -0.219268  \n",
       "\n",
       "[5 rows x 209 columns]"
      ]
     },
     "execution_count": 62,
     "metadata": {},
     "output_type": "execute_result"
    }
   ],
   "source": [
    "df_embedded.head()"
   ]
  },
  {
   "cell_type": "code",
   "execution_count": 63,
   "metadata": {
    "ExecuteTime": {
     "end_time": "2021-01-13T00:31:59.446869Z",
     "start_time": "2021-01-13T00:31:43.622603Z"
    }
   },
   "outputs": [],
   "source": [
    "df_embedded.to_csv(\"../data/final_embedded.csv\")"
   ]
  },
  {
   "cell_type": "code",
   "execution_count": null,
   "metadata": {},
   "outputs": [],
   "source": []
  }
 ],
 "metadata": {
  "kernelspec": {
   "display_name": "inf-retr",
   "language": "python",
   "name": "inf-retr"
  },
  "language_info": {
   "codemirror_mode": {
    "name": "ipython",
    "version": 3
   },
   "file_extension": ".py",
   "mimetype": "text/x-python",
   "name": "python",
   "nbconvert_exporter": "python",
   "pygments_lexer": "ipython3",
   "version": "3.8.5"
  },
  "varInspector": {
   "cols": {
    "lenName": 16,
    "lenType": 16,
    "lenVar": 40
   },
   "kernels_config": {
    "python": {
     "delete_cmd_postfix": "",
     "delete_cmd_prefix": "del ",
     "library": "var_list.py",
     "varRefreshCmd": "print(var_dic_list())"
    },
    "r": {
     "delete_cmd_postfix": ") ",
     "delete_cmd_prefix": "rm(",
     "library": "var_list.r",
     "varRefreshCmd": "cat(var_dic_list()) "
    }
   },
   "types_to_exclude": [
    "module",
    "function",
    "builtin_function_or_method",
    "instance",
    "_Feature"
   ],
   "window_display": false
  }
 },
 "nbformat": 4,
 "nbformat_minor": 4
}
