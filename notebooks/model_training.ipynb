{
 "cells": [
  {
   "cell_type": "code",
   "execution_count": 1,
   "metadata": {
    "ExecuteTime": {
     "end_time": "2021-01-13T09:46:50.546004Z",
     "start_time": "2021-01-13T09:46:50.513793Z"
    }
   },
   "outputs": [],
   "source": [
    "%load_ext autoreload\n",
    "%autoreload 2"
   ]
  },
  {
   "cell_type": "code",
   "execution_count": 2,
   "metadata": {
    "ExecuteTime": {
     "end_time": "2021-01-13T09:46:51.150524Z",
     "start_time": "2021-01-13T09:46:50.671249Z"
    }
   },
   "outputs": [],
   "source": [
    "import pandas as pd\n",
    "import numpy as np"
   ]
  },
  {
   "cell_type": "code",
   "execution_count": 3,
   "metadata": {
    "ExecuteTime": {
     "end_time": "2021-01-13T09:46:51.712590Z",
     "start_time": "2021-01-13T09:46:51.155112Z"
    }
   },
   "outputs": [],
   "source": [
    "from sklearn.pipeline import Pipeline"
   ]
  },
  {
   "cell_type": "code",
   "execution_count": 4,
   "metadata": {
    "ExecuteTime": {
     "end_time": "2021-01-13T09:46:51.796416Z",
     "start_time": "2021-01-13T09:46:51.715692Z"
    }
   },
   "outputs": [],
   "source": [
    "from sklearn.svm import SVC\n",
    "from sklearn.preprocessing import StandardScaler\n",
    "from sklearn.model_selection import train_test_split\n",
    "from sklearn.pipeline import Pipeline"
   ]
  },
  {
   "cell_type": "code",
   "execution_count": 15,
   "metadata": {
    "ExecuteTime": {
     "end_time": "2021-01-13T10:44:35.755198Z",
     "start_time": "2021-01-13T10:44:32.433340Z"
    }
   },
   "outputs": [
    {
     "data": {
      "text/html": [
       "<div>\n",
       "<style scoped>\n",
       "    .dataframe tbody tr th:only-of-type {\n",
       "        vertical-align: middle;\n",
       "    }\n",
       "\n",
       "    .dataframe tbody tr th {\n",
       "        vertical-align: top;\n",
       "    }\n",
       "\n",
       "    .dataframe thead th {\n",
       "        text-align: right;\n",
       "    }\n",
       "</style>\n",
       "<table border=\"1\" class=\"dataframe\">\n",
       "  <thead>\n",
       "    <tr style=\"text-align: right;\">\n",
       "      <th></th>\n",
       "      <th>LIKES</th>\n",
       "      <th>COMMENTS</th>\n",
       "      <th>target</th>\n",
       "      <th>sin_hour</th>\n",
       "      <th>cos_hour</th>\n",
       "      <th>cos_month</th>\n",
       "      <th>sin_month</th>\n",
       "      <th>cos_weekday</th>\n",
       "      <th>sin_weekday</th>\n",
       "      <th>emb_text_0</th>\n",
       "      <th>...</th>\n",
       "      <th>emb_title_90</th>\n",
       "      <th>emb_title_91</th>\n",
       "      <th>emb_title_92</th>\n",
       "      <th>emb_title_93</th>\n",
       "      <th>emb_title_94</th>\n",
       "      <th>emb_title_95</th>\n",
       "      <th>emb_title_96</th>\n",
       "      <th>emb_title_97</th>\n",
       "      <th>emb_title_98</th>\n",
       "      <th>emb_title_99</th>\n",
       "    </tr>\n",
       "  </thead>\n",
       "  <tbody>\n",
       "    <tr>\n",
       "      <th>0</th>\n",
       "      <td>245</td>\n",
       "      <td>38</td>\n",
       "      <td>0</td>\n",
       "      <td>-0.258819</td>\n",
       "      <td>0.965926</td>\n",
       "      <td>1.0</td>\n",
       "      <td>-2.449294e-16</td>\n",
       "      <td>1.0</td>\n",
       "      <td>0.0</td>\n",
       "      <td>0.148087</td>\n",
       "      <td>...</td>\n",
       "      <td>0.531877</td>\n",
       "      <td>-0.295999</td>\n",
       "      <td>0.432405</td>\n",
       "      <td>-0.171743</td>\n",
       "      <td>-0.376144</td>\n",
       "      <td>-0.080770</td>\n",
       "      <td>0.780307</td>\n",
       "      <td>-0.393801</td>\n",
       "      <td>0.284733</td>\n",
       "      <td>-0.529976</td>\n",
       "    </tr>\n",
       "    <tr>\n",
       "      <th>1</th>\n",
       "      <td>3</td>\n",
       "      <td>12</td>\n",
       "      <td>6</td>\n",
       "      <td>-0.258819</td>\n",
       "      <td>0.965926</td>\n",
       "      <td>1.0</td>\n",
       "      <td>-2.449294e-16</td>\n",
       "      <td>1.0</td>\n",
       "      <td>0.0</td>\n",
       "      <td>0.095156</td>\n",
       "      <td>...</td>\n",
       "      <td>0.207497</td>\n",
       "      <td>-0.087502</td>\n",
       "      <td>0.449081</td>\n",
       "      <td>0.798268</td>\n",
       "      <td>-0.418835</td>\n",
       "      <td>-0.091712</td>\n",
       "      <td>0.177536</td>\n",
       "      <td>-0.081389</td>\n",
       "      <td>-0.373750</td>\n",
       "      <td>-0.300206</td>\n",
       "    </tr>\n",
       "    <tr>\n",
       "      <th>2</th>\n",
       "      <td>73</td>\n",
       "      <td>3</td>\n",
       "      <td>7</td>\n",
       "      <td>-0.258819</td>\n",
       "      <td>0.965926</td>\n",
       "      <td>1.0</td>\n",
       "      <td>-2.449294e-16</td>\n",
       "      <td>1.0</td>\n",
       "      <td>0.0</td>\n",
       "      <td>0.156003</td>\n",
       "      <td>...</td>\n",
       "      <td>0.600254</td>\n",
       "      <td>-0.218309</td>\n",
       "      <td>0.488272</td>\n",
       "      <td>0.004122</td>\n",
       "      <td>-0.580864</td>\n",
       "      <td>-0.647737</td>\n",
       "      <td>-0.421757</td>\n",
       "      <td>0.404062</td>\n",
       "      <td>-0.599431</td>\n",
       "      <td>-0.755318</td>\n",
       "    </tr>\n",
       "    <tr>\n",
       "      <th>3</th>\n",
       "      <td>79</td>\n",
       "      <td>15</td>\n",
       "      <td>7</td>\n",
       "      <td>-0.258819</td>\n",
       "      <td>0.965926</td>\n",
       "      <td>1.0</td>\n",
       "      <td>-2.449294e-16</td>\n",
       "      <td>1.0</td>\n",
       "      <td>0.0</td>\n",
       "      <td>0.242299</td>\n",
       "      <td>...</td>\n",
       "      <td>0.178026</td>\n",
       "      <td>0.402201</td>\n",
       "      <td>0.071325</td>\n",
       "      <td>-0.381747</td>\n",
       "      <td>-0.243778</td>\n",
       "      <td>-0.708453</td>\n",
       "      <td>0.065975</td>\n",
       "      <td>-0.481236</td>\n",
       "      <td>-0.349474</td>\n",
       "      <td>-0.470402</td>\n",
       "    </tr>\n",
       "    <tr>\n",
       "      <th>4</th>\n",
       "      <td>4</td>\n",
       "      <td>10</td>\n",
       "      <td>4</td>\n",
       "      <td>-0.258819</td>\n",
       "      <td>0.965926</td>\n",
       "      <td>1.0</td>\n",
       "      <td>-2.449294e-16</td>\n",
       "      <td>1.0</td>\n",
       "      <td>0.0</td>\n",
       "      <td>0.096658</td>\n",
       "      <td>...</td>\n",
       "      <td>0.045307</td>\n",
       "      <td>0.060338</td>\n",
       "      <td>0.306918</td>\n",
       "      <td>-0.052441</td>\n",
       "      <td>0.083353</td>\n",
       "      <td>-0.437869</td>\n",
       "      <td>0.048654</td>\n",
       "      <td>-0.002049</td>\n",
       "      <td>-0.534763</td>\n",
       "      <td>-0.219268</td>\n",
       "    </tr>\n",
       "  </tbody>\n",
       "</table>\n",
       "<p>5 rows × 209 columns</p>\n",
       "</div>"
      ],
      "text/plain": [
       "   LIKES  COMMENTS  target  sin_hour  cos_hour  cos_month     sin_month  \\\n",
       "0    245        38       0 -0.258819  0.965926        1.0 -2.449294e-16   \n",
       "1      3        12       6 -0.258819  0.965926        1.0 -2.449294e-16   \n",
       "2     73         3       7 -0.258819  0.965926        1.0 -2.449294e-16   \n",
       "3     79        15       7 -0.258819  0.965926        1.0 -2.449294e-16   \n",
       "4      4        10       4 -0.258819  0.965926        1.0 -2.449294e-16   \n",
       "\n",
       "   cos_weekday  sin_weekday  emb_text_0  ...  emb_title_90  emb_title_91  \\\n",
       "0          1.0          0.0    0.148087  ...      0.531877     -0.295999   \n",
       "1          1.0          0.0    0.095156  ...      0.207497     -0.087502   \n",
       "2          1.0          0.0    0.156003  ...      0.600254     -0.218309   \n",
       "3          1.0          0.0    0.242299  ...      0.178026      0.402201   \n",
       "4          1.0          0.0    0.096658  ...      0.045307      0.060338   \n",
       "\n",
       "   emb_title_92  emb_title_93  emb_title_94  emb_title_95  emb_title_96  \\\n",
       "0      0.432405     -0.171743     -0.376144     -0.080770      0.780307   \n",
       "1      0.449081      0.798268     -0.418835     -0.091712      0.177536   \n",
       "2      0.488272      0.004122     -0.580864     -0.647737     -0.421757   \n",
       "3      0.071325     -0.381747     -0.243778     -0.708453      0.065975   \n",
       "4      0.306918     -0.052441      0.083353     -0.437869      0.048654   \n",
       "\n",
       "   emb_title_97  emb_title_98  emb_title_99  \n",
       "0     -0.393801      0.284733     -0.529976  \n",
       "1     -0.081389     -0.373750     -0.300206  \n",
       "2      0.404062     -0.599431     -0.755318  \n",
       "3     -0.481236     -0.349474     -0.470402  \n",
       "4     -0.002049     -0.534763     -0.219268  \n",
       "\n",
       "[5 rows x 209 columns]"
      ]
     },
     "execution_count": 15,
     "metadata": {},
     "output_type": "execute_result"
    }
   ],
   "source": [
    "df = pd.read_csv(\"../data/final_embedded.csv\", index_col=0)\n",
    "df.head()"
   ]
  },
  {
   "cell_type": "code",
   "execution_count": 16,
   "metadata": {
    "ExecuteTime": {
     "end_time": "2021-01-13T10:44:35.861734Z",
     "start_time": "2021-01-13T10:44:35.758115Z"
    }
   },
   "outputs": [],
   "source": [
    "X, y = df.drop(columns=['target']), df['target']"
   ]
  },
  {
   "cell_type": "code",
   "execution_count": 17,
   "metadata": {
    "ExecuteTime": {
     "end_time": "2021-01-13T10:44:36.040182Z",
     "start_time": "2021-01-13T10:44:35.865112Z"
    }
   },
   "outputs": [],
   "source": [
    "X_train, X_test, y_train, y_test = train_test_split(X, y, random_state=0, stratify=y)"
   ]
  },
  {
   "cell_type": "code",
   "execution_count": 18,
   "metadata": {
    "ExecuteTime": {
     "end_time": "2021-01-13T10:44:36.067006Z",
     "start_time": "2021-01-13T10:44:36.043220Z"
    }
   },
   "outputs": [
    {
     "data": {
      "text/plain": [
       "12853"
      ]
     },
     "execution_count": 18,
     "metadata": {},
     "output_type": "execute_result"
    }
   ],
   "source": [
    "len(X_test)"
   ]
  },
  {
   "cell_type": "markdown",
   "metadata": {},
   "source": [
    "## Classification"
   ]
  },
  {
   "cell_type": "markdown",
   "metadata": {},
   "source": [
    "### SVC"
   ]
  },
  {
   "cell_type": "code",
   "execution_count": 19,
   "metadata": {
    "ExecuteTime": {
     "end_time": "2021-01-13T10:44:36.098960Z",
     "start_time": "2021-01-13T10:44:36.070273Z"
    }
   },
   "outputs": [],
   "source": [
    "pipe = Pipeline(\n",
    "    [\n",
    "        ('scaler', StandardScaler()),\n",
    "        ('svc', SVC())\n",
    "    ]\n",
    ")"
   ]
  },
  {
   "cell_type": "code",
   "execution_count": 20,
   "metadata": {
    "ExecuteTime": {
     "end_time": "2021-01-13T10:47:38.942058Z",
     "start_time": "2021-01-13T10:44:36.103002Z"
    }
   },
   "outputs": [
    {
     "data": {
      "text/plain": [
       "Pipeline(steps=[('scaler', StandardScaler()), ('svc', SVC())])"
      ]
     },
     "execution_count": 20,
     "metadata": {},
     "output_type": "execute_result"
    }
   ],
   "source": [
    "pipe.fit(X_train, y_train)"
   ]
  },
  {
   "cell_type": "code",
   "execution_count": 21,
   "metadata": {
    "ExecuteTime": {
     "end_time": "2021-01-13T10:49:13.355815Z",
     "start_time": "2021-01-13T10:47:38.946234Z"
    }
   },
   "outputs": [
    {
     "data": {
      "text/plain": [
       "0.7829300552400218"
      ]
     },
     "execution_count": 21,
     "metadata": {},
     "output_type": "execute_result"
    }
   ],
   "source": [
    "pipe.score(X_test, y_test)"
   ]
  },
  {
   "cell_type": "markdown",
   "metadata": {},
   "source": [
    "### LogisticRegression"
   ]
  },
  {
   "cell_type": "code",
   "execution_count": 22,
   "metadata": {
    "ExecuteTime": {
     "end_time": "2021-01-13T10:49:13.382997Z",
     "start_time": "2021-01-13T10:49:13.358780Z"
    }
   },
   "outputs": [],
   "source": [
    "from sklearn.linear_model import LogisticRegression"
   ]
  },
  {
   "cell_type": "code",
   "execution_count": 23,
   "metadata": {
    "ExecuteTime": {
     "end_time": "2021-01-13T10:49:23.180255Z",
     "start_time": "2021-01-13T10:49:13.386586Z"
    }
   },
   "outputs": [
    {
     "name": "stderr",
     "output_type": "stream",
     "text": [
      "/home/memesrized/.virtualenvs/inf_retr/lib/python3.8/site-packages/sklearn/linear_model/_logistic.py:763: ConvergenceWarning: lbfgs failed to converge (status=1):\n",
      "STOP: TOTAL NO. of ITERATIONS REACHED LIMIT.\n",
      "\n",
      "Increase the number of iterations (max_iter) or scale the data as shown in:\n",
      "    https://scikit-learn.org/stable/modules/preprocessing.html\n",
      "Please also refer to the documentation for alternative solver options:\n",
      "    https://scikit-learn.org/stable/modules/linear_model.html#logistic-regression\n",
      "  n_iter_i = _check_optimize_result(\n"
     ]
    },
    {
     "data": {
      "text/plain": [
       "0.7541430016338598"
      ]
     },
     "execution_count": 23,
     "metadata": {},
     "output_type": "execute_result"
    }
   ],
   "source": [
    "pipe = Pipeline(\n",
    "    [\n",
    "        ('scaler', StandardScaler()),\n",
    "        ('svc', LogisticRegression())\n",
    "    ]\n",
    ")\n",
    "pipe.fit(X_train, y_train)\n",
    "pipe.score(X_test, y_test)"
   ]
  },
  {
   "cell_type": "markdown",
   "metadata": {},
   "source": [
    "### LDA"
   ]
  },
  {
   "cell_type": "code",
   "execution_count": 24,
   "metadata": {
    "ExecuteTime": {
     "end_time": "2021-01-13T10:49:23.268281Z",
     "start_time": "2021-01-13T10:49:23.183723Z"
    }
   },
   "outputs": [],
   "source": [
    "from sklearn.discriminant_analysis import LinearDiscriminantAnalysis as LDA"
   ]
  },
  {
   "cell_type": "code",
   "execution_count": 25,
   "metadata": {
    "ExecuteTime": {
     "end_time": "2021-01-13T10:49:25.880344Z",
     "start_time": "2021-01-13T10:49:23.274618Z"
    }
   },
   "outputs": [
    {
     "data": {
      "text/plain": [
       "0.7369485723177468"
      ]
     },
     "execution_count": 25,
     "metadata": {},
     "output_type": "execute_result"
    }
   ],
   "source": [
    "pipe = Pipeline(\n",
    "    [\n",
    "        ('scaler', StandardScaler()),\n",
    "        ('svc', LDA())\n",
    "    ]\n",
    ")\n",
    "pipe.fit(X_train, y_train)\n",
    "pipe.score(X_test, y_test)"
   ]
  },
  {
   "cell_type": "markdown",
   "metadata": {},
   "source": [
    "## TopicModeling"
   ]
  },
  {
   "cell_type": "markdown",
   "metadata": {},
   "source": [
    "### LDA"
   ]
  },
  {
   "cell_type": "code",
   "execution_count": 22,
   "metadata": {
    "ExecuteTime": {
     "end_time": "2021-01-13T01:34:16.844807Z",
     "start_time": "2021-01-13T01:34:16.828940Z"
    }
   },
   "outputs": [
    {
     "data": {
      "text/plain": [
       "array([0, 6, 7, 4, 3, 1, 2, 5])"
      ]
     },
     "execution_count": 22,
     "metadata": {},
     "output_type": "execute_result"
    }
   ],
   "source": [
    "y.unique()"
   ]
  },
  {
   "cell_type": "code",
   "execution_count": 5,
   "metadata": {
    "ExecuteTime": {
     "end_time": "2021-01-13T09:46:59.260082Z",
     "start_time": "2021-01-13T09:46:58.393417Z"
    }
   },
   "outputs": [
    {
     "name": "stderr",
     "output_type": "stream",
     "text": [
      "[nltk_data] Downloading package stopwords to\n",
      "[nltk_data]     /home/memesrized/nltk_data...\n",
      "[nltk_data]   Package stopwords is already up-to-date!\n"
     ]
    }
   ],
   "source": [
    "import nltk\n",
    "nltk.download('stopwords')\n",
    "from nltk.corpus import stopwords\n",
    "sw = stopwords.words(\"russian\")\n",
    "\n",
    "def remove_stop_words(words_list):\n",
    "    return [x for x in words_list if x not in sw]"
   ]
  },
  {
   "cell_type": "code",
   "execution_count": 6,
   "metadata": {
    "ExecuteTime": {
     "end_time": "2021-01-13T10:00:04.566898Z",
     "start_time": "2021-01-13T09:46:59.264045Z"
    }
   },
   "outputs": [
    {
     "name": "stderr",
     "output_type": "stream",
     "text": [
      "Installing mystem to /home/memesrized/.local/bin/mystem from http://download.cdn.yandex.net/mystem/mystem-3.1-linux-64bit.tar.gz\n",
      "<ipython-input-6-46a90d2ad961>:8: SettingWithCopyWarning: \n",
      "A value is trying to be set on a copy of a slice from a DataFrame.\n",
      "Try using .loc[row_indexer,col_indexer] = value instead\n",
      "\n",
      "See the caveats in the documentation: https://pandas.pydata.org/pandas-docs/stable/user_guide/indexing.html#returning-a-view-versus-a-copy\n",
      "  df_oh['TEXT'] = df_oh['TEXT'].map(lambda x: \" \".join(lemmatizers['mystem'](x)))\n",
      "<ipython-input-6-46a90d2ad961>:9: SettingWithCopyWarning: \n",
      "A value is trying to be set on a copy of a slice from a DataFrame.\n",
      "Try using .loc[row_indexer,col_indexer] = value instead\n",
      "\n",
      "See the caveats in the documentation: https://pandas.pydata.org/pandas-docs/stable/user_guide/indexing.html#returning-a-view-versus-a-copy\n",
      "  df_oh['TEXT'] = df_oh['TEXT'].map(lambda x: \" \".join(remove_stop_words(x.split())))\n",
      "<ipython-input-6-46a90d2ad961>:10: SettingWithCopyWarning: \n",
      "A value is trying to be set on a copy of a slice from a DataFrame.\n",
      "Try using .loc[row_indexer,col_indexer] = value instead\n",
      "\n",
      "See the caveats in the documentation: https://pandas.pydata.org/pandas-docs/stable/user_guide/indexing.html#returning-a-view-versus-a-copy\n",
      "  df_oh['TEXT'] = df_oh['TEXT'].map(lambda x: re.sub('\\d+', '0', x))\n"
     ]
    }
   ],
   "source": [
    "from src.utils.lemmatizers import lemmatizers\n",
    "import re\n",
    "from sklearn.feature_extraction.text import TfidfVectorizer\n",
    "\n",
    "df = pd.read_csv(\"../data/preprocessed_strict.csv\", index_col=0)\n",
    "df_oh = df[['TEXT', 'target']]\n",
    "\n",
    "df_oh['TEXT'] = df_oh['TEXT'].map(lambda x: \" \".join(lemmatizers['mystem'](x)))\n",
    "df_oh['TEXT'] = df_oh['TEXT'].map(lambda x: \" \".join(remove_stop_words(x.split())))\n",
    "df_oh['TEXT'] = df_oh['TEXT'].map(lambda x: re.sub('\\d+', '0', x))\n",
    "\n",
    "\n",
    "vectorizer = TfidfVectorizer()"
   ]
  },
  {
   "cell_type": "code",
   "execution_count": 7,
   "metadata": {
    "ExecuteTime": {
     "end_time": "2021-01-13T10:00:13.068262Z",
     "start_time": "2021-01-13T10:00:04.570086Z"
    }
   },
   "outputs": [],
   "source": [
    "X_tf_idf = vectorizer.fit_transform(df_oh['TEXT'].tolist())"
   ]
  },
  {
   "cell_type": "code",
   "execution_count": 42,
   "metadata": {
    "ExecuteTime": {
     "end_time": "2021-01-13T12:19:27.370718Z",
     "start_time": "2021-01-13T12:17:18.375198Z"
    }
   },
   "outputs": [
    {
     "data": {
      "text/plain": [
       "LatentDirichletAllocation(n_components=8, random_state=1)"
      ]
     },
     "execution_count": 42,
     "metadata": {},
     "output_type": "execute_result"
    }
   ],
   "source": [
    "from sklearn.decomposition import LatentDirichletAllocation\n",
    "\n",
    "lda = LatentDirichletAllocation(n_components=8, random_state=1)\n",
    "lda.fit(X_tf_idf)"
   ]
  },
  {
   "cell_type": "code",
   "execution_count": 43,
   "metadata": {
    "ExecuteTime": {
     "end_time": "2021-01-13T12:19:27.794412Z",
     "start_time": "2021-01-13T12:19:27.373185Z"
    }
   },
   "outputs": [
    {
     "name": "stdout",
     "output_type": "stream",
     "text": [
      "['смешнявка', 'петруччо', 'кончит', 'гильберт', 'анный', 'брасс', 'бомжевать', 'сосисочка', 'aaa', 'электромагнит', 'пикапост', 'авторынок', 'френдлент', 'кат', 'педобир'] \n",
      "\n",
      "['украина', 'россия', 'страна', 'это', 'который', 'российский', 'украинский', 'сша', 'путин', 'год', 'президент', 'новость', 'война', 'свой', 'власть'] \n",
      "\n",
      "['видеокарта', 'i0', 'geforce', 'процессор', 'core', 'intel', '0gb', 'gtx', 'amd', 'nvidia', 'проц', '0m', 'комма', 'asus', 'radeon'] \n",
      "\n",
      "['the', 'you', 'and', 'to', 'is', 'of', 'in', 'that', 'not', 'with', 'your', 'it', 'this', 'was', 'we'] \n",
      "\n",
      "['вятский', 'квас', 'vga', 'михрютка', 'манту', 'кл', 'zzz', 'вилма', 'злопамятный', 'vaio', 'пиздокрывать', 'сакура', 'фазан', 'клаустрофоб', 'king'] \n",
      "\n",
      "['это', 'весь', 'мочь', 'свой', 'человек', 'девушка', 'который', 'год', 'знать', 'очень', 'друг', 'ребенок', 'хотеть', 'помогать', 'сказать'] \n",
      "\n",
      "['йоттар', 'coub', 'фш', 'utm', 'ремейк', 'power', 'новичка', 'табас', 'пидр', 'view', 'уот', 'непрокатить', 'усраина', 'amp', 'share'] \n",
      "\n",
      "['удалять', 'moderator', 'gif', 'романок', 'be', 'roi', 'порноактриса', 'мойра', 'сильвин', 'зафрендзонивать', 'тремент', 'тишка', 'нудист', 'стимпанк', 'mini'] \n",
      "\n"
     ]
    }
   ],
   "source": [
    "vocab = vectorizer.get_feature_names()\n",
    "\n",
    "n_top_words = 15\n",
    "\n",
    "topic_words = {}\n",
    "\n",
    "for topic, comp in enumerate(lda.components_):    \n",
    "    word_idx = np.argsort(comp)[::-1][:n_top_words]\n",
    "    print([vocab[x] for x in word_idx],\"\\n\")"
   ]
  },
  {
   "cell_type": "code",
   "execution_count": 53,
   "metadata": {},
   "outputs": [
    {
     "name": "stdout",
     "output_type": "stream",
     "text": [
      "['минус', 'помогать', 'коммент', 'пожалуйста', 'внутри', 'пикабушник', 'помощь', 'ссылка', 'комментарий', 'пост'] \n",
      "\n",
      "['украина', 'россия', 'страна', 'российский', 'украинский', 'сша', 'это', 'путин', 'который', 'президент'] \n",
      "\n",
      "['рэнд', 'шанни', 'стефан', 'некромантка', 'риш', 'рутта', 'deleted', 'point', 'крей', 'скьолвы'] \n",
      "\n",
      "['мопс', 'анкетирование', 'шамбамбукля', 'мазукт', 'скумбрия', 'антифриз', 'укулеля', 'макрос', 'павлодар', 'лавсан'] \n",
      "\n",
      "['error', 'маскоу', 'survey', 'survio', 'губерман', 'вятский', 'vaio', 'трансформер', 'range', 'rover'] \n",
      "\n",
      "['это', 'весь', 'свой', 'человек', 'мочь', 'который', 'девушка', 'год', 'знать', 'ребенок'] \n",
      "\n",
      "['винд', 'видеокарта', 'windows', 'драйвер', 'the', 'i0', 'гб', 'you', 'asus', 'ноутбук'] \n",
      "\n",
      "['радмир', 'coub', 'del', 'леголас', 'табас', 'боян', 'кончит', 'мэд', 'ляксей', 'ширшина'] \n",
      "\n"
     ]
    }
   ],
   "source": [
    "vocab = vectorizer.get_feature_names()\n",
    "\n",
    "n_top_words = 10\n",
    "\n",
    "topic_words = {}\n",
    "\n",
    "for topic, comp in enumerate(lda.components_):    \n",
    "    word_idx = np.argsort(comp)[::-1][:n_top_words]\n",
    "    print([vocab[x] for x in word_idx],\"\\n\")"
   ]
  },
  {
   "cell_type": "markdown",
   "metadata": {},
   "source": [
    "## Clustering"
   ]
  },
  {
   "cell_type": "markdown",
   "metadata": {},
   "source": [
    "### Kmeans-fasttext"
   ]
  },
  {
   "cell_type": "code",
   "execution_count": 26,
   "metadata": {
    "ExecuteTime": {
     "end_time": "2021-01-13T10:49:25.933218Z",
     "start_time": "2021-01-13T10:49:25.889859Z"
    }
   },
   "outputs": [],
   "source": [
    "from collections import Counter\n",
    "from sklearn.cluster import KMeans\n",
    "from sklearn import metrics"
   ]
  },
  {
   "cell_type": "code",
   "execution_count": 27,
   "metadata": {
    "ExecuteTime": {
     "end_time": "2021-01-13T10:49:33.994418Z",
     "start_time": "2021-01-13T10:49:25.948513Z"
    }
   },
   "outputs": [],
   "source": [
    "kmeans = KMeans(n_clusters=8).fit(X)"
   ]
  },
  {
   "cell_type": "code",
   "execution_count": 28,
   "metadata": {
    "ExecuteTime": {
     "end_time": "2021-01-13T10:49:34.493047Z",
     "start_time": "2021-01-13T10:49:33.996249Z"
    }
   },
   "outputs": [
    {
     "data": {
      "text/plain": [
       "array([3, 1, 1, ..., 1, 3, 3], dtype=int32)"
      ]
     },
     "execution_count": 28,
     "metadata": {},
     "output_type": "execute_result"
    }
   ],
   "source": [
    "kmeans.predict(X)"
   ]
  },
  {
   "cell_type": "code",
   "execution_count": 29,
   "metadata": {
    "ExecuteTime": {
     "end_time": "2021-01-13T10:49:34.544062Z",
     "start_time": "2021-01-13T10:49:34.495606Z"
    }
   },
   "outputs": [],
   "source": [
    "from sklearn import preprocessing\n",
    "le = preprocessing.LabelEncoder().fit(y)"
   ]
  },
  {
   "cell_type": "code",
   "execution_count": 30,
   "metadata": {
    "ExecuteTime": {
     "end_time": "2021-01-13T10:49:35.021069Z",
     "start_time": "2021-01-13T10:49:34.547939Z"
    },
    "scrolled": true
   },
   "outputs": [
    {
     "data": {
      "text/plain": [
       "array([0, 1, 2, 3, 4, 5, 6, 7], dtype=int32)"
      ]
     },
     "execution_count": 30,
     "metadata": {},
     "output_type": "execute_result"
    }
   ],
   "source": [
    "np.unique(kmeans.predict(X))"
   ]
  },
  {
   "cell_type": "code",
   "execution_count": 31,
   "metadata": {
    "ExecuteTime": {
     "end_time": "2021-01-13T10:49:35.764944Z",
     "start_time": "2021-01-13T10:49:35.024724Z"
    }
   },
   "outputs": [
    {
     "data": {
      "text/plain": [
       "[(1, 44800),\n",
       " (3, 2920),\n",
       " (5, 1453),\n",
       " (0, 1008),\n",
       " (6, 638),\n",
       " (4, 404),\n",
       " (2, 158),\n",
       " (7, 29)]"
      ]
     },
     "execution_count": 31,
     "metadata": {},
     "output_type": "execute_result"
    }
   ],
   "source": [
    "Counter(kmeans.predict(X)).most_common()"
   ]
  },
  {
   "cell_type": "code",
   "execution_count": 32,
   "metadata": {
    "ExecuteTime": {
     "end_time": "2021-01-13T10:49:35.823580Z",
     "start_time": "2021-01-13T10:49:35.768217Z"
    }
   },
   "outputs": [
    {
     "data": {
      "text/plain": [
       "[(4, 13169),\n",
       " (3, 9441),\n",
       " (7, 9273),\n",
       " (1, 4864),\n",
       " (5, 4763),\n",
       " (6, 4357),\n",
       " (0, 3262),\n",
       " (2, 2281)]"
      ]
     },
     "execution_count": 32,
     "metadata": {},
     "output_type": "execute_result"
    }
   ],
   "source": [
    "Counter(y).most_common()"
   ]
  },
  {
   "cell_type": "code",
   "execution_count": 33,
   "metadata": {
    "ExecuteTime": {
     "end_time": "2021-01-13T10:49:35.859405Z",
     "start_time": "2021-01-13T10:49:35.826427Z"
    }
   },
   "outputs": [
    {
     "data": {
      "text/plain": [
       "array([0, 6, 7, ..., 7, 1, 7])"
      ]
     },
     "execution_count": 33,
     "metadata": {},
     "output_type": "execute_result"
    }
   ],
   "source": [
    "le.transform(y)"
   ]
  },
  {
   "cell_type": "code",
   "execution_count": 34,
   "metadata": {
    "ExecuteTime": {
     "end_time": "2021-01-13T10:49:36.421046Z",
     "start_time": "2021-01-13T10:49:35.861828Z"
    }
   },
   "outputs": [
    {
     "data": {
      "text/plain": [
       "0.013200719914041453"
      ]
     },
     "execution_count": 34,
     "metadata": {},
     "output_type": "execute_result"
    }
   ],
   "source": [
    "metrics.adjusted_rand_score(kmeans.predict(X), le.transform(y))"
   ]
  },
  {
   "cell_type": "markdown",
   "metadata": {},
   "source": [
    "### Kmeans-tfifd"
   ]
  },
  {
   "cell_type": "code",
   "execution_count": 35,
   "metadata": {
    "ExecuteTime": {
     "end_time": "2021-01-13T10:50:19.333897Z",
     "start_time": "2021-01-13T10:49:36.423310Z"
    }
   },
   "outputs": [],
   "source": [
    "km_tfidf=KMeans(n_clusters=8).fit(X_tf_idf)"
   ]
  },
  {
   "cell_type": "code",
   "execution_count": 36,
   "metadata": {
    "ExecuteTime": {
     "end_time": "2021-01-13T10:50:19.357988Z",
     "start_time": "2021-01-13T10:50:19.335600Z"
    }
   },
   "outputs": [
    {
     "data": {
      "text/plain": [
       "(51416, 151580)"
      ]
     },
     "execution_count": 36,
     "metadata": {},
     "output_type": "execute_result"
    }
   ],
   "source": [
    "X_tf_idf.shape"
   ]
  },
  {
   "cell_type": "code",
   "execution_count": 37,
   "metadata": {
    "ExecuteTime": {
     "end_time": "2021-01-13T10:50:19.529508Z",
     "start_time": "2021-01-13T10:50:19.361671Z"
    }
   },
   "outputs": [
    {
     "data": {
      "text/plain": [
       "0.16233893715582967"
      ]
     },
     "execution_count": 37,
     "metadata": {},
     "output_type": "execute_result"
    }
   ],
   "source": [
    "metrics.adjusted_rand_score(km_tfidf.predict(X_tf_idf), le.transform(df_oh['target']))"
   ]
  },
  {
   "cell_type": "markdown",
   "metadata": {},
   "source": [
    "### OPTICS"
   ]
  },
  {
   "cell_type": "code",
   "execution_count": null,
   "metadata": {
    "scrolled": true
   },
   "outputs": [],
   "source": [
    "from sklearn.cluster import OPTICS\n",
    "\n",
    "opt = OPTICS().fit(X)"
   ]
  }
 ],
 "metadata": {
  "kernelspec": {
   "display_name": "inf-retr",
   "language": "python",
   "name": "inf-retr"
  },
  "language_info": {
   "codemirror_mode": {
    "name": "ipython",
    "version": 3
   },
   "file_extension": ".py",
   "mimetype": "text/x-python",
   "name": "python",
   "nbconvert_exporter": "python",
   "pygments_lexer": "ipython3",
   "version": "3.8.5"
  }
 },
 "nbformat": 4,
 "nbformat_minor": 4
}
